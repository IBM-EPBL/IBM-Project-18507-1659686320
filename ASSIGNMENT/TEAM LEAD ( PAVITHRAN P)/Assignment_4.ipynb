{
  "cells": [
    {
      "cell_type": "markdown",
      "id": "3fd1406a",
      "metadata": {
        "id": "3fd1406a"
      },
      "source": [
        "# Importing Necessary Packages"
      ]
    },
    {
      "cell_type": "code",
      "execution_count": null,
      "id": "614b9aee",
      "metadata": {
        "id": "614b9aee"
      },
      "outputs": [],
      "source": [
        "import numpy as np\n",
        "import pandas as pd\n",
        "import matplotlib.pyplot as plt\n",
        "import seaborn as sns"
      ]
    },
    {
      "cell_type": "markdown",
      "id": "a82c1b1e",
      "metadata": {
        "id": "a82c1b1e"
      },
      "source": [
        "# Downloading and Loading the Dataset"
      ]
    },
    {
      "cell_type": "code",
      "execution_count": null,
      "id": "c3df85ce",
      "metadata": {
        "id": "c3df85ce",
        "outputId": "b03d5c4c-430a-4158-ec11-9113348377bb"
      },
      "outputs": [
        {
          "data": {
            "text/html": [
              "<div>\n",
              "<style scoped>\n",
              "    .dataframe tbody tr th:only-of-type {\n",
              "        vertical-align: middle;\n",
              "    }\n",
              "\n",
              "    .dataframe tbody tr th {\n",
              "        vertical-align: top;\n",
              "    }\n",
              "\n",
              "    .dataframe thead th {\n",
              "        text-align: right;\n",
              "    }\n",
              "</style>\n",
              "<table border=\"1\" class=\"dataframe\">\n",
              "  <thead>\n",
              "    <tr style=\"text-align: right;\">\n",
              "      <th></th>\n",
              "      <th>Gender</th>\n",
              "      <th>Age</th>\n",
              "      <th>Annual Income (k$)</th>\n",
              "      <th>Spending Score (1-100)</th>\n",
              "    </tr>\n",
              "  </thead>\n",
              "  <tbody>\n",
              "    <tr>\n",
              "      <th>0</th>\n",
              "      <td>Male</td>\n",
              "      <td>19</td>\n",
              "      <td>15</td>\n",
              "      <td>39</td>\n",
              "    </tr>\n",
              "    <tr>\n",
              "      <th>1</th>\n",
              "      <td>Male</td>\n",
              "      <td>21</td>\n",
              "      <td>15</td>\n",
              "      <td>81</td>\n",
              "    </tr>\n",
              "    <tr>\n",
              "      <th>2</th>\n",
              "      <td>Female</td>\n",
              "      <td>20</td>\n",
              "      <td>16</td>\n",
              "      <td>6</td>\n",
              "    </tr>\n",
              "    <tr>\n",
              "      <th>3</th>\n",
              "      <td>Female</td>\n",
              "      <td>23</td>\n",
              "      <td>16</td>\n",
              "      <td>77</td>\n",
              "    </tr>\n",
              "    <tr>\n",
              "      <th>4</th>\n",
              "      <td>Female</td>\n",
              "      <td>31</td>\n",
              "      <td>17</td>\n",
              "      <td>40</td>\n",
              "    </tr>\n",
              "  </tbody>\n",
              "</table>\n",
              "</div>"
            ],
            "text/plain": [
              "   Gender  Age  Annual Income (k$)  Spending Score (1-100)\n",
              "0    Male   19                  15                      39\n",
              "1    Male   21                  15                      81\n",
              "2  Female   20                  16                       6\n",
              "3  Female   23                  16                      77\n",
              "4  Female   31                  17                      40"
            ]
          },
          "execution_count": 2,
          "metadata": {},
          "output_type": "execute_result"
        }
      ],
      "source": [
        "df=pd.read_csv('D:\\SUDHARSAN\\Mall_Customers.csv')\n",
        "df=df.iloc[:,1:]\n",
        "df.head()"
      ]
    },
    {
      "cell_type": "markdown",
      "id": "1a8b98ad",
      "metadata": {
        "id": "1a8b98ad"
      },
      "source": [
        "# Perform Descriptive Statistics on the Dataset"
      ]
    },
    {
      "cell_type": "code",
      "execution_count": null,
      "id": "4dd0e80f",
      "metadata": {
        "id": "4dd0e80f",
        "outputId": "d74b6426-1afc-4517-df6c-fe36236dbe86"
      },
      "outputs": [
        {
          "data": {
            "text/html": [
              "<div>\n",
              "<style scoped>\n",
              "    .dataframe tbody tr th:only-of-type {\n",
              "        vertical-align: middle;\n",
              "    }\n",
              "\n",
              "    .dataframe tbody tr th {\n",
              "        vertical-align: top;\n",
              "    }\n",
              "\n",
              "    .dataframe thead th {\n",
              "        text-align: right;\n",
              "    }\n",
              "</style>\n",
              "<table border=\"1\" class=\"dataframe\">\n",
              "  <thead>\n",
              "    <tr style=\"text-align: right;\">\n",
              "      <th></th>\n",
              "      <th>Age</th>\n",
              "      <th>Annual Income (k$)</th>\n",
              "      <th>Spending Score (1-100)</th>\n",
              "    </tr>\n",
              "  </thead>\n",
              "  <tbody>\n",
              "    <tr>\n",
              "      <th>count</th>\n",
              "      <td>200.000000</td>\n",
              "      <td>200.000000</td>\n",
              "      <td>200.000000</td>\n",
              "    </tr>\n",
              "    <tr>\n",
              "      <th>mean</th>\n",
              "      <td>38.850000</td>\n",
              "      <td>60.560000</td>\n",
              "      <td>50.200000</td>\n",
              "    </tr>\n",
              "    <tr>\n",
              "      <th>std</th>\n",
              "      <td>13.969007</td>\n",
              "      <td>26.264721</td>\n",
              "      <td>25.823522</td>\n",
              "    </tr>\n",
              "    <tr>\n",
              "      <th>min</th>\n",
              "      <td>18.000000</td>\n",
              "      <td>15.000000</td>\n",
              "      <td>1.000000</td>\n",
              "    </tr>\n",
              "    <tr>\n",
              "      <th>25%</th>\n",
              "      <td>28.750000</td>\n",
              "      <td>41.500000</td>\n",
              "      <td>34.750000</td>\n",
              "    </tr>\n",
              "    <tr>\n",
              "      <th>50%</th>\n",
              "      <td>36.000000</td>\n",
              "      <td>61.500000</td>\n",
              "      <td>50.000000</td>\n",
              "    </tr>\n",
              "    <tr>\n",
              "      <th>75%</th>\n",
              "      <td>49.000000</td>\n",
              "      <td>78.000000</td>\n",
              "      <td>73.000000</td>\n",
              "    </tr>\n",
              "    <tr>\n",
              "      <th>max</th>\n",
              "      <td>70.000000</td>\n",
              "      <td>137.000000</td>\n",
              "      <td>99.000000</td>\n",
              "    </tr>\n",
              "  </tbody>\n",
              "</table>\n",
              "</div>"
            ],
            "text/plain": [
              "              Age  Annual Income (k$)  Spending Score (1-100)\n",
              "count  200.000000          200.000000              200.000000\n",
              "mean    38.850000           60.560000               50.200000\n",
              "std     13.969007           26.264721               25.823522\n",
              "min     18.000000           15.000000                1.000000\n",
              "25%     28.750000           41.500000               34.750000\n",
              "50%     36.000000           61.500000               50.000000\n",
              "75%     49.000000           78.000000               73.000000\n",
              "max     70.000000          137.000000               99.000000"
            ]
          },
          "execution_count": 3,
          "metadata": {},
          "output_type": "execute_result"
        }
      ],
      "source": [
        "df.describe()"
      ]
    },
    {
      "cell_type": "code",
      "execution_count": null,
      "id": "d1b3508c",
      "metadata": {
        "id": "d1b3508c",
        "outputId": "23ca9142-d480-470e-da96-a2d6571b5e87"
      },
      "outputs": [
        {
          "data": {
            "text/plain": [
              "(200, 4)"
            ]
          },
          "execution_count": 4,
          "metadata": {},
          "output_type": "execute_result"
        }
      ],
      "source": [
        "df.shape"
      ]
    },
    {
      "cell_type": "code",
      "execution_count": null,
      "id": "2f9e63ee",
      "metadata": {
        "id": "2f9e63ee",
        "outputId": "23636aba-82d8-4443-935a-0f3eed31f863"
      },
      "outputs": [
        {
          "name": "stdout",
          "output_type": "stream",
          "text": [
            "<class 'pandas.core.frame.DataFrame'>\n",
            "RangeIndex: 200 entries, 0 to 199\n",
            "Data columns (total 4 columns):\n",
            "Gender                    200 non-null object\n",
            "Age                       200 non-null int64\n",
            "Annual Income (k$)        200 non-null int64\n",
            "Spending Score (1-100)    200 non-null int64\n",
            "dtypes: int64(3), object(1)\n",
            "memory usage: 5.5+ KB\n"
          ]
        }
      ],
      "source": [
        "df.info()"
      ]
    },
    {
      "cell_type": "markdown",
      "id": "84212b28",
      "metadata": {
        "id": "84212b28"
      },
      "source": [
        "# Performing The Various Visualisations"
      ]
    },
    {
      "cell_type": "markdown",
      "id": "bf147d32",
      "metadata": {
        "id": "bf147d32"
      },
      "source": [
        "# 1. Univariate Analysis"
      ]
    },
    {
      "cell_type": "code",
      "execution_count": null,
      "id": "ec92d7c3",
      "metadata": {
        "id": "ec92d7c3",
        "outputId": "7564c31f-7220-4da9-dbec-1f4bb881e957"
      },
      "outputs": [
        {
          "name": "stderr",
          "output_type": "stream",
          "text": [
            "c:\\users\\hp\\appdata\\local\\programs\\python\\python36-32\\lib\\site-packages\\seaborn\\_decorators.py:43: FutureWarning: Pass the following variable as a keyword arg: x. From version 0.12, the only valid positional argument will be `data`, and passing other arguments without an explicit keyword will result in an error or misinterpretation.\n",
            "  FutureWarning\n"
          ]
        },
        {
          "data": {
            "image/png": "[encoded data removed]",
            "text/plain": [
              "<Figure size 432x288 with 1 Axes>"
            ]
          },
          "metadata": {
            "needs_background": "light"
          },
          "output_type": "display_data"
        },
        {
          "name": "stderr",
          "output_type": "stream",
          "text": [
            "c:\\users\\hp\\appdata\\local\\programs\\python\\python36-32\\lib\\site-packages\\seaborn\\_decorators.py:43: FutureWarning: Pass the following variable as a keyword arg: x. From version 0.12, the only valid positional argument will be `data`, and passing other arguments without an explicit keyword will result in an error or misinterpretation.\n",
            "  FutureWarning\n"
          ]
        },
        {
          "data": {
            "image/png": "[encoded data removed]",
            "text/plain": [
              "<Figure size 432x288 with 1 Axes>"
            ]
          },
          "metadata": {
            "needs_background": "light"
          },
          "output_type": "display_data"
        },
        {
          "name": "stderr",
          "output_type": "stream",
          "text": [
            "c:\\users\\hp\\appdata\\local\\programs\\python\\python36-32\\lib\\site-packages\\seaborn\\_decorators.py:43: FutureWarning: Pass the following variable as a keyword arg: x. From version 0.12, the only valid positional argument will be `data`, and passing other arguments without an explicit keyword will result in an error or misinterpretation.\n",
            "  FutureWarning\n"
          ]
        },
        {
          "data": {
            "image/png": "[encoded data removed]",
            "text/plain": [
              "<Figure size 432x288 with 1 Axes>"
            ]
          },
          "metadata": {
            "needs_background": "light"
          },
          "output_type": "display_data"
        }
      ],
      "source": [
        "for col in df.columns:\n",
        "    if df.dtypes[col]=='int64':\n",
        "        sns.boxplot(df[col])\n",
        "        plt.show()"
      ]
    },
    {
      "cell_type": "code",
      "execution_count": null,
      "id": "b246c3ad",
      "metadata": {
        "id": "b246c3ad",
        "outputId": "d5e019b3-8f84-4dbe-bb9a-d73d31521bca"
      },
      "outputs": [
        {
          "name": "stderr",
          "output_type": "stream",
          "text": [
            "c:\\users\\hp\\appdata\\local\\programs\\python\\python36-32\\lib\\site-packages\\seaborn\\distributions.py:2619: FutureWarning: `distplot` is a deprecated function and will be removed in a future version. Please adapt your code to use either `displot` (a figure-level function with similar flexibility) or `histplot` (an axes-level function for histograms).\n",
            "  warnings.warn(msg, FutureWarning)\n"
          ]
        },
        {
          "data": {
            "image/png": "[encoded data removed]",
            "text/plain": [
              "<Figure size 432x288 with 1 Axes>"
            ]
          },
          "metadata": {
            "needs_background": "light"
          },
          "output_type": "display_data"
        },
        {
          "name": "stderr",
          "output_type": "stream",
          "text": [
            "c:\\users\\hp\\appdata\\local\\programs\\python\\python36-32\\lib\\site-packages\\seaborn\\distributions.py:2619: FutureWarning: `distplot` is a deprecated function and will be removed in a future version. Please adapt your code to use either `displot` (a figure-level function with similar flexibility) or `histplot` (an axes-level function for histograms).\n",
            "  warnings.warn(msg, FutureWarning)\n"
          ]
        },
        {
          "data": {
            "image/png": "[encoded data removed]",
            "text/plain": [
              "<Figure size 432x288 with 1 Axes>"
            ]
          },
          "metadata": {
            "needs_background": "light"
          },
          "output_type": "display_data"
        },
        {
          "name": "stderr",
          "output_type": "stream",
          "text": [
            "c:\\users\\hp\\appdata\\local\\programs\\python\\python36-32\\lib\\site-packages\\seaborn\\distributions.py:2619: FutureWarning: `distplot` is a deprecated function and will be removed in a future version. Please adapt your code to use either `displot` (a figure-level function with similar flexibility) or `histplot` (an axes-level function for histograms).\n",
            "  warnings.warn(msg, FutureWarning)\n"
          ]
        },
        {
          "data": {
            "image/png": "[encoded data removed]",
            "text/plain": [
              "<Figure size 432x288 with 1 Axes>"
            ]
          },
          "metadata": {
            "needs_background": "light"
          },
          "output_type": "display_data"
        }
      ],
      "source": [
        "for col in df.columns:\n",
        "    if df.dtypes[col]=='int64':\n",
        "        sns.distplot(df[col])\n",
        "        plt.show()"
      ]
    },
    {
      "cell_type": "code",
      "execution_count": null,
      "id": "63996104",
      "metadata": {
        "id": "63996104",
        "outputId": "a79e4aec-5681-4daf-a766-a15c61851828"
      },
      "outputs": [
        {
          "data": {
            "image/png": "[encoded data removed]",
            "text/plain": [
              "<Figure size 432x288 with 1 Axes>"
            ]
          },
          "metadata": {
            "needs_background": "light"
          },
          "output_type": "display_data"
        },
        {
          "data": {
            "image/png": "[encoded data removed]",
            "text/plain": [
              "<Figure size 432x288 with 1 Axes>"
            ]
          },
          "metadata": {
            "needs_background": "light"
          },
          "output_type": "display_data"
        },
        {
          "data": {
            "image/png": "[encoded data removed]",
            "text/plain": [
              "<Figure size 432x288 with 1 Axes>"
            ]
          },
          "metadata": {
            "needs_background": "light"
          },
          "output_type": "display_data"
        }
      ],
      "source": [
        "for col in df.columns:\n",
        "    if df.dtypes[col]=='int64':\n",
        "        sns.histplot(df[col])\n",
        "        plt.show()"
      ]
    },
    {
      "cell_type": "code",
      "execution_count": null,
      "id": "923ee201",
      "metadata": {
        "id": "923ee201",
        "outputId": "ead2a8f7-466f-4ec8-b1cd-9acd5478e6dd"
      },
      "outputs": [
        {
          "data": {
            "image/png": "[encoded data removed]",
            "text/plain": [
              "<Figure size 432x288 with 1 Axes>"
            ]
          },
          "metadata": {
            "needs_background": "light"
          },
          "output_type": "display_data"
        },
        {
          "data": {
            "image/png": "[encoded data removed]",
            "text/plain": [
              "<Figure size 432x288 with 1 Axes>"
            ]
          },
          "metadata": {
            "needs_background": "light"
          },
          "output_type": "display_data"
        },
        {
          "data": {
            "image/png": "[encoded data removed]",
            "text/plain": [
              "<Figure size 432x288 with 1 Axes>"
            ]
          },
          "metadata": {
            "needs_background": "light"
          },
          "output_type": "display_data"
        }
      ],
      "source": [
        "for col in df.columns:\n",
        "    if df.dtypes[col]=='int64':\n",
        "        plt.hist(df[col])\n",
        "        plt.show()"
      ]
    },
    {
      "cell_type": "markdown",
      "id": "75d576b7",
      "metadata": {
        "id": "75d576b7"
      },
      "source": [
        "# 2. Bivariate Analysis"
      ]
    },
    {
      "cell_type": "code",
      "execution_count": null,
      "id": "55cb28b5",
      "metadata": {
        "id": "55cb28b5",
        "outputId": "85140d22-c879-4ad2-f876-c74ac3e00b7b"
      },
      "outputs": [
        {
          "name": "stderr",
          "output_type": "stream",
          "text": [
            "c:\\users\\hp\\appdata\\local\\programs\\python\\python36-32\\lib\\site-packages\\seaborn\\_decorators.py:43: FutureWarning: Pass the following variables as keyword args: x, y. From version 0.12, the only valid positional argument will be `data`, and passing other arguments without an explicit keyword will result in an error or misinterpretation.\n",
            "  FutureWarning\n"
          ]
        },
        {
          "data": {
            "image/png": "[encoded data removed]",
            "text/plain": [
              "<Figure size 432x432 with 3 Axes>"
            ]
          },
          "metadata": {
            "needs_background": "light"
          },
          "output_type": "display_data"
        },
        {
          "name": "stderr",
          "output_type": "stream",
          "text": [
            "c:\\users\\hp\\appdata\\local\\programs\\python\\python36-32\\lib\\site-packages\\seaborn\\_decorators.py:43: FutureWarning: Pass the following variables as keyword args: x, y. From version 0.12, the only valid positional argument will be `data`, and passing other arguments without an explicit keyword will result in an error or misinterpretation.\n",
            "  FutureWarning\n"
          ]
        },
        {
          "data": {
            "image/png": "[encoded data removed]",
            "text/plain": [
              "<Figure size 432x432 with 3 Axes>"
            ]
          },
          "metadata": {
            "needs_background": "light"
          },
          "output_type": "display_data"
        },
        {
          "name": "stderr",
          "output_type": "stream",
          "text": [
            "c:\\users\\hp\\appdata\\local\\programs\\python\\python36-32\\lib\\site-packages\\seaborn\\_decorators.py:43: FutureWarning: Pass the following variables as keyword args: x, y. From version 0.12, the only valid positional argument will be `data`, and passing other arguments without an explicit keyword will result in an error or misinterpretation.\n",
            "  FutureWarning\n"
          ]
        },
        {
          "data": {
            "image/png": "[encoded data removed]",
            "text/plain": [
              "<Figure size 432x432 with 3 Axes>"
            ]
          },
          "metadata": {
            "needs_background": "light"
          },
          "output_type": "display_data"
        },
        {
          "name": "stderr",
          "output_type": "stream",
          "text": [
            "c:\\users\\hp\\appdata\\local\\programs\\python\\python36-32\\lib\\site-packages\\seaborn\\_decorators.py:43: FutureWarning: Pass the following variables as keyword args: x, y. From version 0.12, the only valid positional argument will be `data`, and passing other arguments without an explicit keyword will result in an error or misinterpretation.\n",
            "  FutureWarning\n"
          ]
        },
        {
          "data": {
            "image/png": "[encoded data removed]",
            "text/plain": [
              "<Figure size 432x432 with 3 Axes>"
            ]
          },
          "metadata": {
            "needs_background": "light"
          },
          "output_type": "display_data"
        },
        {
          "name": "stderr",
          "output_type": "stream",
          "text": [
            "c:\\users\\hp\\appdata\\local\\programs\\python\\python36-32\\lib\\site-packages\\seaborn\\_decorators.py:43: FutureWarning: Pass the following variables as keyword args: x, y. From version 0.12, the only valid positional argument will be `data`, and passing other arguments without an explicit keyword will result in an error or misinterpretation.\n",
            "  FutureWarning\n"
          ]
        },
        {
          "data": {
            "image/png": "[encoded data removed]",
            "text/plain": [
              "<Figure size 432x432 with 3 Axes>"
            ]
          },
          "metadata": {
            "needs_background": "light"
          },
          "output_type": "display_data"
        },
        {
          "name": "stderr",
          "output_type": "stream",
          "text": [
            "c:\\users\\hp\\appdata\\local\\programs\\python\\python36-32\\lib\\site-packages\\seaborn\\_decorators.py:43: FutureWarning: Pass the following variables as keyword args: x, y. From version 0.12, the only valid positional argument will be `data`, and passing other arguments without an explicit keyword will result in an error or misinterpretation.\n",
            "  FutureWarning\n"
          ]
        },
        {
          "data": {
            "image/png": "[encoded data removed]",
            "text/plain": [
              "<Figure size 432x432 with 3 Axes>"
            ]
          },
          "metadata": {
            "needs_background": "light"
          },
          "output_type": "display_data"
        },
        {
          "name": "stderr",
          "output_type": "stream",
          "text": [
            "c:\\users\\hp\\appdata\\local\\programs\\python\\python36-32\\lib\\site-packages\\seaborn\\_decorators.py:43: FutureWarning: Pass the following variables as keyword args: x, y. From version 0.12, the only valid positional argument will be `data`, and passing other arguments without an explicit keyword will result in an error or misinterpretation.\n",
            "  FutureWarning\n"
          ]
        },
        {
          "data": {
            "image/png": "[encoded data removed]",
            "text/plain": [
              "<Figure size 432x432 with 3 Axes>"
            ]
          },
          "metadata": {
            "needs_background": "light"
          },
          "output_type": "display_data"
        },
        {
          "name": "stderr",
          "output_type": "stream",
          "text": [
            "c:\\users\\hp\\appdata\\local\\programs\\python\\python36-32\\lib\\site-packages\\seaborn\\_decorators.py:43: FutureWarning: Pass the following variables as keyword args: x, y. From version 0.12, the only valid positional argument will be `data`, and passing other arguments without an explicit keyword will result in an error or misinterpretation.\n",
            "  FutureWarning\n"
          ]
        },
        {
          "data": {
            "image/png": "[encoded data removed]",
            "text/plain": [
              "<Figure size 432x432 with 3 Axes>"
            ]
          },
          "metadata": {
            "needs_background": "light"
          },
          "output_type": "display_data"
        },
        {
          "name": "stderr",
          "output_type": "stream",
          "text": [
            "c:\\users\\hp\\appdata\\local\\programs\\python\\python36-32\\lib\\site-packages\\seaborn\\_decorators.py:43: FutureWarning: Pass the following variables as keyword args: x, y. From version 0.12, the only valid positional argument will be `data`, and passing other arguments without an explicit keyword will result in an error or misinterpretation.\n",
            "  FutureWarning\n"
          ]
        },
        {
          "data": {
            "image/png": "[encoded data removed]",
            "text/plain": [
              "<Figure size 432x432 with 3 Axes>"
            ]
          },
          "metadata": {
            "needs_background": "light"
          },
          "output_type": "display_data"
        }
      ],
      "source": [
        "for col in df.columns:\n",
        "    for col1 in df.columns:\n",
        "        if df.dtypes[col]=='int64':\n",
        "            if df.dtypes[col1]=='int64':\n",
        "                sns.jointplot(df[col],df[col1])\n",
        "                plt.show()"
      ]
    },
    {
      "cell_type": "code",
      "execution_count": null,
      "id": "0d9d9047",
      "metadata": {
        "id": "0d9d9047",
        "outputId": "886e54ed-5e36-4237-9166-9bb1d885ac79"
      },
      "outputs": [
        {
          "name": "stderr",
          "output_type": "stream",
          "text": [
            "c:\\users\\hp\\appdata\\local\\programs\\python\\python36-32\\lib\\site-packages\\seaborn\\_decorators.py:43: FutureWarning: Pass the following variables as keyword args: x, y. From version 0.12, the only valid positional argument will be `data`, and passing other arguments without an explicit keyword will result in an error or misinterpretation.\n",
            "  FutureWarning\n"
          ]
        },
        {
          "data": {
            "image/png": "[encoded data removed]",
            "text/plain": [
              "<Figure size 432x288 with 1 Axes>"
            ]
          },
          "metadata": {
            "needs_background": "light"
          },
          "output_type": "display_data"
        },
        {
          "name": "stderr",
          "output_type": "stream",
          "text": [
            "c:\\users\\hp\\appdata\\local\\programs\\python\\python36-32\\lib\\site-packages\\seaborn\\_decorators.py:43: FutureWarning: Pass the following variables as keyword args: x, y. From version 0.12, the only valid positional argument will be `data`, and passing other arguments without an explicit keyword will result in an error or misinterpretation.\n",
            "  FutureWarning\n"
          ]
        },
        {
          "data": {
            "image/png": "[encoded data removed]",
            "text/plain": [
              "<Figure size 432x288 with 1 Axes>"
            ]
          },
          "metadata": {
            "needs_background": "light"
          },
          "output_type": "display_data"
        },
        {
          "name": "stderr",
          "output_type": "stream",
          "text": [
            "c:\\users\\hp\\appdata\\local\\programs\\python\\python36-32\\lib\\site-packages\\seaborn\\_decorators.py:43: FutureWarning: Pass the following variables as keyword args: x, y. From version 0.12, the only valid positional argument will be `data`, and passing other arguments without an explicit keyword will result in an error or misinterpretation.\n",
            "  FutureWarning\n"
          ]
        },
        {
          "data": {
            "image/png": "[encoded data removed]",
            "text/plain": [
              "<Figure size 432x288 with 1 Axes>"
            ]
          },
          "metadata": {
            "needs_background": "light"
          },
          "output_type": "display_data"
        },
        {
          "name": "stderr",
          "output_type": "stream",
          "text": [
            "c:\\users\\hp\\appdata\\local\\programs\\python\\python36-32\\lib\\site-packages\\seaborn\\_decorators.py:43: FutureWarning: Pass the following variables as keyword args: x, y. From version 0.12, the only valid positional argument will be `data`, and passing other arguments without an explicit keyword will result in an error or misinterpretation.\n",
            "  FutureWarning\n"
          ]
        },
        {
          "data": {
            "image/png": "[encoded data removed]",
            "text/plain": [
              "<Figure size 432x288 with 1 Axes>"
            ]
          },
          "metadata": {
            "needs_background": "light"
          },
          "output_type": "display_data"
        },
        {
          "name": "stderr",
          "output_type": "stream",
          "text": [
            "c:\\users\\hp\\appdata\\local\\programs\\python\\python36-32\\lib\\site-packages\\seaborn\\_decorators.py:43: FutureWarning: Pass the following variables as keyword args: x, y. From version 0.12, the only valid positional argument will be `data`, and passing other arguments without an explicit keyword will result in an error or misinterpretation.\n",
            "  FutureWarning\n"
          ]
        },
        {
          "data": {
            "image/png": "[encoded data removed]",
            "text/plain": [
              "<Figure size 432x288 with 1 Axes>"
            ]
          },
          "metadata": {
            "needs_background": "light"
          },
          "output_type": "display_data"
        },
        {
          "name": "stderr",
          "output_type": "stream",
          "text": [
            "c:\\users\\hp\\appdata\\local\\programs\\python\\python36-32\\lib\\site-packages\\seaborn\\_decorators.py:43: FutureWarning: Pass the following variables as keyword args: x, y. From version 0.12, the only valid positional argument will be `data`, and passing other arguments without an explicit keyword will result in an error or misinterpretation.\n",
            "  FutureWarning\n"
          ]
        },
        {
          "data": {
            "image/png": "[encoded data removed]",
            "text/plain": [
              "<Figure size 432x288 with 1 Axes>"
            ]
          },
          "metadata": {
            "needs_background": "light"
          },
          "output_type": "display_data"
        },
        {
          "name": "stderr",
          "output_type": "stream",
          "text": [
            "c:\\users\\hp\\appdata\\local\\programs\\python\\python36-32\\lib\\site-packages\\seaborn\\_decorators.py:43: FutureWarning: Pass the following variables as keyword args: x, y. From version 0.12, the only valid positional argument will be `data`, and passing other arguments without an explicit keyword will result in an error or misinterpretation.\n",
            "  FutureWarning\n"
          ]
        },
        {
          "data": {
            "image/png": "[encoded data removed]",
            "text/plain": [
              "<Figure size 432x288 with 1 Axes>"
            ]
          },
          "metadata": {
            "needs_background": "light"
          },
          "output_type": "display_data"
        },
        {
          "name": "stderr",
          "output_type": "stream",
          "text": [
            "c:\\users\\hp\\appdata\\local\\programs\\python\\python36-32\\lib\\site-packages\\seaborn\\_decorators.py:43: FutureWarning: Pass the following variables as keyword args: x, y. From version 0.12, the only valid positional argument will be `data`, and passing other arguments without an explicit keyword will result in an error or misinterpretation.\n",
            "  FutureWarning\n"
          ]
        },
        {
          "data": {
            "image/png": "[encoded data removed]",
            "text/plain": [
              "<Figure size 432x288 with 1 Axes>"
            ]
          },
          "metadata": {
            "needs_background": "light"
          },
          "output_type": "display_data"
        },
        {
          "name": "stderr",
          "output_type": "stream",
          "text": [
            "c:\\users\\hp\\appdata\\local\\programs\\python\\python36-32\\lib\\site-packages\\seaborn\\_decorators.py:43: FutureWarning: Pass the following variables as keyword args: x, y. From version 0.12, the only valid positional argument will be `data`, and passing other arguments without an explicit keyword will result in an error or misinterpretation.\n",
            "  FutureWarning\n"
          ]
        },
        {
          "data": {
            "image/png": "[encoded data removed]",
            "text/plain": [
              "<Figure size 432x288 with 1 Axes>"
            ]
          },
          "metadata": {
            "needs_background": "light"
          },
          "output_type": "display_data"
        }
      ],
      "source": [
        "for col in df.columns:\n",
        "    for col1 in df.columns:\n",
        "        if df.dtypes[col]=='int64':\n",
        "            if df.dtypes[col1]=='int64':\n",
        "                sns.barplot(df[col],df[col1])\n",
        "                plt.show()"
      ]
    },
    {
      "cell_type": "markdown",
      "id": "140362be",
      "metadata": {
        "id": "140362be"
      },
      "source": [
        "# 3. MultiVariate Analysis"
      ]
    },
    {
      "cell_type": "code",
      "execution_count": null,
      "id": "4b202d19",
      "metadata": {
        "id": "4b202d19",
        "outputId": "982ee845-243c-454a-f829-941d49a24fe2"
      },
      "outputs": [
        {
          "data": {
            "text/plain": [
              "<seaborn.axisgrid.PairGrid at 0x12e3ae50>"
            ]
          },
          "execution_count": 12,
          "metadata": {},
          "output_type": "execute_result"
        },
        {
          "data": {
            "image/png": "[encoded data removed]",
            "text/plain": [
              "<Figure size 413.625x288 with 6 Axes>"
            ]
          },
          "metadata": {
            "needs_background": "light"
          },
          "output_type": "display_data"
        }
      ],
      "source": [
        "sns.pairplot(df,hue='Spending Score (1-100)',height=2)"
      ]
    },
    {
      "cell_type": "markdown",
      "id": "8493e81a",
      "metadata": {
        "id": "8493e81a"
      },
      "source": [
        "# Checking For Missing Values and Handling Them."
      ]
    },
    {
      "cell_type": "code",
      "execution_count": null,
      "id": "acc22aa9",
      "metadata": {
        "id": "acc22aa9",
        "outputId": "0c2285cd-9ea9-4136-8e83-53b22ee34e38"
      },
      "outputs": [
        {
          "data": {
            "text/plain": [
              "Gender                    False\n",
              "Age                       False\n",
              "Annual Income (k$)        False\n",
              "Spending Score (1-100)    False\n",
              "dtype: bool"
            ]
          },
          "execution_count": 13,
          "metadata": {},
          "output_type": "execute_result"
        }
      ],
      "source": [
        "df.isnull().any()"
      ]
    },
    {
      "cell_type": "code",
      "execution_count": null,
      "id": "2ab434c6",
      "metadata": {
        "id": "2ab434c6",
        "outputId": "62b19b3d-a7f7-4cec-a1c5-9c219d921f90"
      },
      "outputs": [
        {
          "data": {
            "text/plain": [
              "Gender                    0\n",
              "Age                       0\n",
              "Annual Income (k$)        0\n",
              "Spending Score (1-100)    0\n",
              "dtype: int64"
            ]
          },
          "execution_count": 14,
          "metadata": {},
          "output_type": "execute_result"
        }
      ],
      "source": [
        "df.isnull().sum()"
      ]
    },
    {
      "cell_type": "markdown",
      "id": "98b726ea",
      "metadata": {
        "id": "98b726ea"
      },
      "source": [
        "Since there is no null values in the Dataset given, so we can skip this step."
      ]
    },
    {
      "cell_type": "markdown",
      "id": "369b796c",
      "metadata": {
        "id": "369b796c"
      },
      "source": [
        "# Finding the Outliers and Replacing Them"
      ]
    },
    {
      "cell_type": "markdown",
      "id": "9bdad57f",
      "metadata": {
        "id": "9bdad57f"
      },
      "source": [
        "The outliers are found using the Box Plot."
      ]
    },
    {
      "cell_type": "code",
      "execution_count": null,
      "id": "7fc8c833",
      "metadata": {
        "id": "7fc8c833",
        "outputId": "3a9826f0-401b-4ca6-d3f5-3a4665247129"
      },
      "outputs": [
        {
          "name": "stderr",
          "output_type": "stream",
          "text": [
            "c:\\users\\hp\\appdata\\local\\programs\\python\\python36-32\\lib\\site-packages\\seaborn\\_decorators.py:43: FutureWarning: Pass the following variable as a keyword arg: x. From version 0.12, the only valid positional argument will be `data`, and passing other arguments without an explicit keyword will result in an error or misinterpretation.\n",
            "  FutureWarning\n"
          ]
        },
        {
          "data": {
            "image/png": "[encoded data removed]",
            "text/plain": [
              "<Figure size 432x288 with 1 Axes>"
            ]
          },
          "metadata": {
            "needs_background": "light"
          },
          "output_type": "display_data"
        },
        {
          "name": "stderr",
          "output_type": "stream",
          "text": [
            "c:\\users\\hp\\appdata\\local\\programs\\python\\python36-32\\lib\\site-packages\\seaborn\\_decorators.py:43: FutureWarning: Pass the following variable as a keyword arg: x. From version 0.12, the only valid positional argument will be `data`, and passing other arguments without an explicit keyword will result in an error or misinterpretation.\n",
            "  FutureWarning\n"
          ]
        },
        {
          "data": {
            "image/png": "[encoded data removed]",
            "text/plain": [
              "<Figure size 432x288 with 1 Axes>"
            ]
          },
          "metadata": {
            "needs_background": "light"
          },
          "output_type": "display_data"
        },
        {
          "name": "stderr",
          "output_type": "stream",
          "text": [
            "c:\\users\\hp\\appdata\\local\\programs\\python\\python36-32\\lib\\site-packages\\seaborn\\_decorators.py:43: FutureWarning: Pass the following variable as a keyword arg: x. From version 0.12, the only valid positional argument will be `data`, and passing other arguments without an explicit keyword will result in an error or misinterpretation.\n",
            "  FutureWarning\n"
          ]
        },
        {
          "data": {
            "image/png": "[encoded data removed]",
            "text/plain": [
              "<Figure size 432x288 with 1 Axes>"
            ]
          },
          "metadata": {
            "needs_background": "light"
          },
          "output_type": "display_data"
        }
      ],
      "source": [
        "for col in df.columns:\n",
        "    if df.dtypes[col]=='int64':\n",
        "        sns.boxplot(df[col])\n",
        "        plt.show()"
      ]
    },
    {
      "cell_type": "markdown",
      "id": "d91b1465",
      "metadata": {
        "id": "d91b1465"
      },
      "source": [
        "# Replacing The Outlier"
      ]
    },
    {
      "cell_type": "code",
      "execution_count": null,
      "id": "9ef48527",
      "metadata": {
        "id": "9ef48527",
        "outputId": "d12834c3-ea02-4b66-a627-701176a0e424"
      },
      "outputs": [
        {
          "data": {
            "text/html": [
              "<div>\n",
              "<style scoped>\n",
              "    .dataframe tbody tr th:only-of-type {\n",
              "        vertical-align: middle;\n",
              "    }\n",
              "\n",
              "    .dataframe tbody tr th {\n",
              "        vertical-align: top;\n",
              "    }\n",
              "\n",
              "    .dataframe thead th {\n",
              "        text-align: right;\n",
              "    }\n",
              "</style>\n",
              "<table border=\"1\" class=\"dataframe\">\n",
              "  <thead>\n",
              "    <tr style=\"text-align: right;\">\n",
              "      <th></th>\n",
              "      <th>Gender</th>\n",
              "      <th>Age</th>\n",
              "      <th>Annual Income (k$)</th>\n",
              "      <th>Spending Score (1-100)</th>\n",
              "    </tr>\n",
              "  </thead>\n",
              "  <tbody>\n",
              "    <tr>\n",
              "      <th>0</th>\n",
              "      <td>Male</td>\n",
              "      <td>19</td>\n",
              "      <td>15.0</td>\n",
              "      <td>39</td>\n",
              "    </tr>\n",
              "    <tr>\n",
              "      <th>1</th>\n",
              "      <td>Male</td>\n",
              "      <td>21</td>\n",
              "      <td>15.0</td>\n",
              "      <td>81</td>\n",
              "    </tr>\n",
              "    <tr>\n",
              "      <th>2</th>\n",
              "      <td>Female</td>\n",
              "      <td>20</td>\n",
              "      <td>16.0</td>\n",
              "      <td>6</td>\n",
              "    </tr>\n",
              "    <tr>\n",
              "      <th>3</th>\n",
              "      <td>Female</td>\n",
              "      <td>23</td>\n",
              "      <td>16.0</td>\n",
              "      <td>77</td>\n",
              "    </tr>\n",
              "    <tr>\n",
              "      <th>4</th>\n",
              "      <td>Female</td>\n",
              "      <td>31</td>\n",
              "      <td>17.0</td>\n",
              "      <td>40</td>\n",
              "    </tr>\n",
              "  </tbody>\n",
              "</table>\n",
              "</div>"
            ],
            "text/plain": [
              "   Gender  Age  Annual Income (k$)  Spending Score (1-100)\n",
              "0    Male   19                15.0                      39\n",
              "1    Male   21                15.0                      81\n",
              "2  Female   20                16.0                       6\n",
              "3  Female   23                16.0                      77\n",
              "4  Female   31                17.0                      40"
            ]
          },
          "execution_count": 16,
          "metadata": {},
          "output_type": "execute_result"
        }
      ],
      "source": [
        "AnnualMedian=df.loc[df['Annual Income (k$)']>120,'Annual Income (k$)'].median()\n",
        "df.loc[df['Annual Income (k$)']>120,'Annual Income (k$)']=np.nan\n",
        "df.fillna(AnnualMedian,inplace=True)\n",
        "df.head()"
      ]
    },
    {
      "cell_type": "code",
      "execution_count": null,
      "id": "a7ef9f3a",
      "metadata": {
        "id": "a7ef9f3a",
        "outputId": "3771c3a3-0074-4b70-f895-03e40d49bc8f"
      },
      "outputs": [
        {
          "name": "stderr",
          "output_type": "stream",
          "text": [
            "c:\\users\\hp\\appdata\\local\\programs\\python\\python36-32\\lib\\site-packages\\seaborn\\_decorators.py:43: FutureWarning: Pass the following variable as a keyword arg: x. From version 0.12, the only valid positional argument will be `data`, and passing other arguments without an explicit keyword will result in an error or misinterpretation.\n",
            "  FutureWarning\n"
          ]
        },
        {
          "data": {
            "text/plain": [
              "<AxesSubplot:xlabel='Annual Income (k$)'>"
            ]
          },
          "execution_count": 17,
          "metadata": {},
          "output_type": "execute_result"
        },
        {
          "data": {
            "image/png": "[encoded data removed]",
            "text/plain": [
              "<Figure size 432x288 with 1 Axes>"
            ]
          },
          "metadata": {
            "needs_background": "light"
          },
          "output_type": "display_data"
        }
      ],
      "source": [
        "sns.boxplot(df['Annual Income (k$)'])"
      ]
    },
    {
      "cell_type": "markdown",
      "id": "34e14630",
      "metadata": {
        "id": "34e14630"
      },
      "source": [
        "So, the Outliers are removed from all the columns."
      ]
    },
    {
      "cell_type": "markdown",
      "id": "b28b82f6",
      "metadata": {
        "id": "b28b82f6"
      },
      "source": [
        "# Check For Categorical Columns and Perform Encoding"
      ]
    },
    {
      "cell_type": "markdown",
      "id": "8ecbf7fa",
      "metadata": {
        "id": "8ecbf7fa"
      },
      "source": [
        "Gender is the only Categorical Column in the Dataset."
      ]
    },
    {
      "cell_type": "code",
      "execution_count": null,
      "id": "be9eae09",
      "metadata": {
        "id": "be9eae09"
      },
      "outputs": [],
      "source": [
        "from sklearn.preprocessing import LabelEncoder\n",
        "le=LabelEncoder()"
      ]
    },
    {
      "cell_type": "code",
      "execution_count": null,
      "id": "b99e578d",
      "metadata": {
        "id": "b99e578d"
      },
      "outputs": [],
      "source": [
        "df.Gender=le.fit_transform(df.Gender)"
      ]
    },
    {
      "cell_type": "code",
      "execution_count": null,
      "id": "2f08613c",
      "metadata": {
        "id": "2f08613c",
        "outputId": "10949c29-0ce5-4932-a2cb-113fcc767845"
      },
      "outputs": [
        {
          "data": {
            "text/html": [
              "<div>\n",
              "<style scoped>\n",
              "    .dataframe tbody tr th:only-of-type {\n",
              "        vertical-align: middle;\n",
              "    }\n",
              "\n",
              "    .dataframe tbody tr th {\n",
              "        vertical-align: top;\n",
              "    }\n",
              "\n",
              "    .dataframe thead th {\n",
              "        text-align: right;\n",
              "    }\n",
              "</style>\n",
              "<table border=\"1\" class=\"dataframe\">\n",
              "  <thead>\n",
              "    <tr style=\"text-align: right;\">\n",
              "      <th></th>\n",
              "      <th>Gender</th>\n",
              "      <th>Age</th>\n",
              "      <th>Annual Income (k$)</th>\n",
              "      <th>Spending Score (1-100)</th>\n",
              "    </tr>\n",
              "  </thead>\n",
              "  <tbody>\n",
              "    <tr>\n",
              "      <th>0</th>\n",
              "      <td>1</td>\n",
              "      <td>19</td>\n",
              "      <td>15.0</td>\n",
              "      <td>39</td>\n",
              "    </tr>\n",
              "    <tr>\n",
              "      <th>1</th>\n",
              "      <td>1</td>\n",
              "      <td>21</td>\n",
              "      <td>15.0</td>\n",
              "      <td>81</td>\n",
              "    </tr>\n",
              "    <tr>\n",
              "      <th>2</th>\n",
              "      <td>0</td>\n",
              "      <td>20</td>\n",
              "      <td>16.0</td>\n",
              "      <td>6</td>\n",
              "    </tr>\n",
              "    <tr>\n",
              "      <th>3</th>\n",
              "      <td>0</td>\n",
              "      <td>23</td>\n",
              "      <td>16.0</td>\n",
              "      <td>77</td>\n",
              "    </tr>\n",
              "    <tr>\n",
              "      <th>4</th>\n",
              "      <td>0</td>\n",
              "      <td>31</td>\n",
              "      <td>17.0</td>\n",
              "      <td>40</td>\n",
              "    </tr>\n",
              "  </tbody>\n",
              "</table>\n",
              "</div>"
            ],
            "text/plain": [
              "   Gender  Age  Annual Income (k$)  Spending Score (1-100)\n",
              "0       1   19                15.0                      39\n",
              "1       1   21                15.0                      81\n",
              "2       0   20                16.0                       6\n",
              "3       0   23                16.0                      77\n",
              "4       0   31                17.0                      40"
            ]
          },
          "execution_count": 20,
          "metadata": {},
          "output_type": "execute_result"
        }
      ],
      "source": [
        "df.head()"
      ]
    },
    {
      "cell_type": "code",
      "execution_count": null,
      "id": "6743b723",
      "metadata": {
        "id": "6743b723",
        "outputId": "7f224037-0cab-490c-9e84-28d107c61ee2"
      },
      "outputs": [
        {
          "data": {
            "text/html": [
              "<div>\n",
              "<style scoped>\n",
              "    .dataframe tbody tr th:only-of-type {\n",
              "        vertical-align: middle;\n",
              "    }\n",
              "\n",
              "    .dataframe tbody tr th {\n",
              "        vertical-align: top;\n",
              "    }\n",
              "\n",
              "    .dataframe thead th {\n",
              "        text-align: right;\n",
              "    }\n",
              "</style>\n",
              "<table border=\"1\" class=\"dataframe\">\n",
              "  <thead>\n",
              "    <tr style=\"text-align: right;\">\n",
              "      <th></th>\n",
              "      <th>Gender</th>\n",
              "      <th>Age</th>\n",
              "      <th>Annual Income (k$)</th>\n",
              "      <th>Spending Score (1-100)</th>\n",
              "    </tr>\n",
              "  </thead>\n",
              "  <tbody>\n",
              "    <tr>\n",
              "      <th>Gender</th>\n",
              "      <td>1.000000</td>\n",
              "      <td>0.060867</td>\n",
              "      <td>0.054319</td>\n",
              "      <td>-0.058109</td>\n",
              "    </tr>\n",
              "    <tr>\n",
              "      <th>Age</th>\n",
              "      <td>0.060867</td>\n",
              "      <td>1.000000</td>\n",
              "      <td>-0.011273</td>\n",
              "      <td>-0.327227</td>\n",
              "    </tr>\n",
              "    <tr>\n",
              "      <th>Annual Income (k$)</th>\n",
              "      <td>0.054319</td>\n",
              "      <td>-0.011273</td>\n",
              "      <td>1.000000</td>\n",
              "      <td>0.009948</td>\n",
              "    </tr>\n",
              "    <tr>\n",
              "      <th>Spending Score (1-100)</th>\n",
              "      <td>-0.058109</td>\n",
              "      <td>-0.327227</td>\n",
              "      <td>0.009948</td>\n",
              "      <td>1.000000</td>\n",
              "    </tr>\n",
              "  </tbody>\n",
              "</table>\n",
              "</div>"
            ],
            "text/plain": [
              "                          Gender       Age  Annual Income (k$)  \\\n",
              "Gender                  1.000000  0.060867            0.054319   \n",
              "Age                     0.060867  1.000000           -0.011273   \n",
              "Annual Income (k$)      0.054319 -0.011273            1.000000   \n",
              "Spending Score (1-100) -0.058109 -0.327227            0.009948   \n",
              "\n",
              "                        Spending Score (1-100)  \n",
              "Gender                               -0.058109  \n",
              "Age                                  -0.327227  \n",
              "Annual Income (k$)                    0.009948  \n",
              "Spending Score (1-100)                1.000000  "
            ]
          },
          "execution_count": 21,
          "metadata": {},
          "output_type": "execute_result"
        }
      ],
      "source": [
        "df.corr()"
      ]
    },
    {
      "cell_type": "code",
      "execution_count": null,
      "id": "c851149b",
      "metadata": {
        "id": "c851149b",
        "outputId": "8f235c76-ffef-4eb1-9114-acd6f6c4ed52"
      },
      "outputs": [
        {
          "data": {
            "text/plain": [
              "<AxesSubplot:>"
            ]
          },
          "execution_count": 22,
          "metadata": {},
          "output_type": "execute_result"
        },
        {
          "data": {
            "image/png": "[encoded data removed]",
            "text/plain": [
              "<Figure size 432x288 with 2 Axes>"
            ]
          },
          "metadata": {
            "needs_background": "light"
          },
          "output_type": "display_data"
        }
      ],
      "source": [
        "sns.heatmap(df.corr(),annot=True)"
      ]
    },
    {
      "cell_type": "markdown",
      "id": "62b3245f",
      "metadata": {
        "id": "62b3245f"
      },
      "source": [
        "# Scaling the Data "
      ]
    },
    {
      "cell_type": "code",
      "execution_count": null,
      "id": "b4b52990",
      "metadata": {
        "id": "b4b52990",
        "outputId": "d57afe2a-c444-4534-bbe0-668385350c09"
      },
      "outputs": [
        {
          "data": {
            "text/plain": [
              "array([[1.        , 0.01923077, 0.        , 0.3877551 ],\n",
              "       [1.        , 0.05769231, 0.        , 0.81632653],\n",
              "       [0.        , 0.03846154, 0.00858369, 0.05102041],\n",
              "       [0.        , 0.09615385, 0.00858369, 0.7755102 ],\n",
              "       [0.        , 0.25      , 0.01716738, 0.39795918],\n",
              "       [0.        , 0.07692308, 0.01716738, 0.76530612],\n",
              "       [0.        , 0.32692308, 0.02575107, 0.05102041],\n",
              "       [0.        , 0.09615385, 0.02575107, 0.94897959],\n",
              "       [1.        , 0.88461538, 0.03433476, 0.02040816],\n",
              "       [0.        , 0.23076923, 0.03433476, 0.7244898 ],\n",
              "       [1.        , 0.94230769, 0.03433476, 0.13265306],\n",
              "       [0.        , 0.32692308, 0.03433476, 1.        ],\n",
              "       [0.        , 0.76923077, 0.04291845, 0.14285714],\n",
              "       [0.        , 0.11538462, 0.04291845, 0.7755102 ],\n",
              "       [1.        , 0.36538462, 0.04291845, 0.12244898],\n",
              "       [1.        , 0.07692308, 0.04291845, 0.79591837],\n",
              "       [0.        , 0.32692308, 0.05150215, 0.34693878],\n",
              "       [1.        , 0.03846154, 0.05150215, 0.66326531],\n",
              "       [1.        , 0.65384615, 0.06866953, 0.28571429],\n",
              "       [0.        , 0.32692308, 0.06866953, 0.98979592],\n",
              "       [1.        , 0.32692308, 0.07725322, 0.34693878],\n",
              "       [1.        , 0.13461538, 0.07725322, 0.73469388],\n",
              "       [0.        , 0.53846154, 0.08583691, 0.04081633],\n",
              "       [1.        , 0.25      , 0.08583691, 0.73469388],\n",
              "       [0.        , 0.69230769, 0.11158798, 0.13265306],\n",
              "       [1.        , 0.21153846, 0.11158798, 0.82653061],\n",
              "       [0.        , 0.51923077, 0.11158798, 0.31632653],\n",
              "       [1.        , 0.32692308, 0.11158798, 0.6122449 ],\n",
              "       [0.        , 0.42307692, 0.12017167, 0.30612245],\n",
              "       [0.        , 0.09615385, 0.12017167, 0.87755102],\n",
              "       [1.        , 0.80769231, 0.12875536, 0.03061224],\n",
              "       [0.        , 0.05769231, 0.12875536, 0.73469388],\n",
              "       [1.        , 0.67307692, 0.15450644, 0.03061224],\n",
              "       [1.        , 0.        , 0.15450644, 0.92857143],\n",
              "       [0.        , 0.59615385, 0.15450644, 0.13265306],\n",
              "       [0.        , 0.05769231, 0.15450644, 0.81632653],\n",
              "       [0.        , 0.46153846, 0.16309013, 0.16326531],\n",
              "       [0.        , 0.23076923, 0.16309013, 0.73469388],\n",
              "       [0.        , 0.34615385, 0.1888412 , 0.25510204],\n",
              "       [0.        , 0.03846154, 0.1888412 , 0.75510204],\n",
              "       [0.        , 0.90384615, 0.19742489, 0.34693878],\n",
              "       [1.        , 0.11538462, 0.19742489, 0.92857143],\n",
              "       [1.        , 0.57692308, 0.20600858, 0.35714286],\n",
              "       [0.        , 0.25      , 0.20600858, 0.6122449 ],\n",
              "       [0.        , 0.59615385, 0.20600858, 0.2755102 ],\n",
              "       [0.        , 0.11538462, 0.20600858, 0.65306122],\n",
              "       [0.        , 0.61538462, 0.21459227, 0.55102041],\n",
              "       [0.        , 0.17307692, 0.21459227, 0.46938776],\n",
              "       [0.        , 0.21153846, 0.21459227, 0.41836735],\n",
              "       [0.        , 0.25      , 0.21459227, 0.41836735],\n",
              "       [0.        , 0.59615385, 0.23175966, 0.52040816],\n",
              "       [1.        , 0.28846154, 0.23175966, 0.60204082],\n",
              "       [0.        , 0.25      , 0.24034335, 0.54081633],\n",
              "       [1.        , 0.78846154, 0.24034335, 0.60204082],\n",
              "       [0.        , 0.61538462, 0.24034335, 0.44897959],\n",
              "       [1.        , 0.55769231, 0.24034335, 0.40816327],\n",
              "       [0.        , 0.63461538, 0.24892704, 0.5       ],\n",
              "       [1.        , 0.98076923, 0.24892704, 0.45918367],\n",
              "       [0.        , 0.17307692, 0.26609442, 0.51020408],\n",
              "       [1.        , 0.67307692, 0.26609442, 0.45918367],\n",
              "       [1.        , 1.        , 0.26609442, 0.56122449],\n",
              "       [1.        , 0.01923077, 0.26609442, 0.55102041],\n",
              "       [0.        , 0.94230769, 0.27467811, 0.52040816],\n",
              "       [0.        , 0.69230769, 0.27467811, 0.59183673],\n",
              "       [1.        , 0.86538462, 0.2832618 , 0.51020408],\n",
              "       [1.        , 0.        , 0.2832618 , 0.59183673],\n",
              "       [0.        , 0.48076923, 0.2832618 , 0.5       ],\n",
              "       [0.        , 0.96153846, 0.2832618 , 0.47959184],\n",
              "       [1.        , 0.01923077, 0.2832618 , 0.59183673],\n",
              "       [0.        , 0.26923077, 0.2832618 , 0.46938776],\n",
              "       [1.        , 1.        , 0.29184549, 0.55102041],\n",
              "       [0.        , 0.55769231, 0.29184549, 0.41836735],\n",
              "       [0.        , 0.80769231, 0.30042918, 0.48979592],\n",
              "       [0.        , 0.80769231, 0.30042918, 0.56122449],\n",
              "       [1.        , 0.78846154, 0.33476395, 0.46938776],\n",
              "       [1.        , 0.15384615, 0.33476395, 0.54081633],\n",
              "       [0.        , 0.51923077, 0.33476395, 0.53061224],\n",
              "       [1.        , 0.42307692, 0.33476395, 0.47959184],\n",
              "       [0.        , 0.09615385, 0.33476395, 0.52040816],\n",
              "       [0.        , 0.59615385, 0.33476395, 0.41836735],\n",
              "       [1.        , 0.75      , 0.33476395, 0.51020408],\n",
              "       [1.        , 0.38461538, 0.33476395, 0.55102041],\n",
              "       [1.        , 0.94230769, 0.33476395, 0.40816327],\n",
              "       [0.        , 0.53846154, 0.33476395, 0.43877551],\n",
              "       [0.        , 0.05769231, 0.33476395, 0.57142857],\n",
              "       [1.        , 0.57692308, 0.33476395, 0.45918367],\n",
              "       [0.        , 0.71153846, 0.36051502, 0.58163265],\n",
              "       [0.        , 0.07692308, 0.36051502, 0.55102041],\n",
              "       [0.        , 0.30769231, 0.36909871, 0.60204082],\n",
              "       [0.        , 0.61538462, 0.36909871, 0.45918367],\n",
              "       [0.        , 0.96153846, 0.3776824 , 0.55102041],\n",
              "       [1.        , 0.        , 0.3776824 , 0.40816327],\n",
              "       [1.        , 0.57692308, 0.38626609, 0.48979592],\n",
              "       [0.        , 0.42307692, 0.38626609, 0.39795918],\n",
              "       [0.        , 0.26923077, 0.38626609, 0.41836735],\n",
              "       [1.        , 0.11538462, 0.38626609, 0.52040816],\n",
              "       [0.        , 0.55769231, 0.38626609, 0.46938776],\n",
              "       [0.        , 0.17307692, 0.38626609, 0.5       ],\n",
              "       [1.        , 0.57692308, 0.39484979, 0.41836735],\n",
              "       [1.        , 0.03846154, 0.39484979, 0.48979592],\n",
              "       [0.        , 0.09615385, 0.40343348, 0.40816327],\n",
              "       [0.        , 0.59615385, 0.40343348, 0.47959184],\n",
              "       [1.        , 0.94230769, 0.40343348, 0.59183673],\n",
              "       [1.        , 0.15384615, 0.40343348, 0.55102041],\n",
              "       [1.        , 0.59615385, 0.40343348, 0.56122449],\n",
              "       [0.        , 0.05769231, 0.40343348, 0.41836735],\n",
              "       [0.        , 0.92307692, 0.41201717, 0.5       ],\n",
              "       [1.        , 0.69230769, 0.41201717, 0.45918367],\n",
              "       [1.        , 0.96153846, 0.41201717, 0.42857143],\n",
              "       [1.        , 0.92307692, 0.41201717, 0.47959184],\n",
              "       [1.        , 0.90384615, 0.41201717, 0.52040816],\n",
              "       [0.        , 0.01923077, 0.41201717, 0.54081633],\n",
              "       [0.        , 0.38461538, 0.42060086, 0.41836735],\n",
              "       [1.        , 0.01923077, 0.42060086, 0.45918367],\n",
              "       [0.        , 0.        , 0.42918455, 0.47959184],\n",
              "       [0.        , 0.01923077, 0.42918455, 0.5       ],\n",
              "       [0.        , 0.86538462, 0.42918455, 0.42857143],\n",
              "       [0.        , 0.59615385, 0.42918455, 0.59183673],\n",
              "       [0.        , 0.63461538, 0.44635193, 0.42857143],\n",
              "       [0.        , 0.61538462, 0.44635193, 0.57142857],\n",
              "       [1.        , 0.17307692, 0.44635193, 0.56122449],\n",
              "       [0.        , 0.38461538, 0.44635193, 0.39795918],\n",
              "       [0.        , 0.42307692, 0.46351931, 0.58163265],\n",
              "       [1.        , 0.40384615, 0.46351931, 0.91836735],\n",
              "       [0.        , 0.09615385, 0.472103  , 0.28571429],\n",
              "       [0.        , 0.25      , 0.472103  , 0.7755102 ],\n",
              "       [1.        , 0.48076923, 0.4806867 , 0.34693878],\n",
              "       [1.        , 0.42307692, 0.4806867 , 0.95918367],\n",
              "       [1.        , 0.78846154, 0.4806867 , 0.10204082],\n",
              "       [1.        , 0.38461538, 0.4806867 , 0.75510204],\n",
              "       [1.        , 0.55769231, 0.4806867 , 0.08163265],\n",
              "       [1.        , 0.40384615, 0.4806867 , 0.75510204],\n",
              "       [0.        , 0.13461538, 0.48927039, 0.33673469],\n",
              "       [0.        , 0.25      , 0.48927039, 0.71428571],\n",
              "       [1.        , 0.03846154, 0.49785408, 0.04081633],\n",
              "       [0.        , 0.21153846, 0.49785408, 0.8877551 ],\n",
              "       [0.        , 0.5       , 0.49785408, 0.06122449],\n",
              "       [1.        , 0.26923077, 0.49785408, 0.73469388],\n",
              "       [1.        , 0.01923077, 0.50643777, 0.09183673],\n",
              "       [0.        , 0.32692308, 0.50643777, 0.7244898 ],\n",
              "       [0.        , 0.75      , 0.51502146, 0.04081633],\n",
              "       [1.        , 0.26923077, 0.51502146, 0.93877551],\n",
              "       [0.        , 0.19230769, 0.52360515, 0.39795918],\n",
              "       [0.        , 0.26923077, 0.52360515, 0.87755102],\n",
              "       [1.        , 0.13461538, 0.53218884, 0.1122449 ],\n",
              "       [1.        , 0.19230769, 0.53218884, 0.97959184],\n",
              "       [1.        , 0.57692308, 0.53218884, 0.35714286],\n",
              "       [0.        , 0.26923077, 0.53218884, 0.74489796],\n",
              "       [0.        , 0.30769231, 0.54077253, 0.21428571],\n",
              "       [1.        , 0.30769231, 0.54077253, 0.90816327],\n",
              "       [1.        , 0.48076923, 0.54077253, 0.16326531],\n",
              "       [1.        , 0.40384615, 0.54077253, 0.8877551 ],\n",
              "       [0.        , 0.5       , 0.54077253, 0.19387755],\n",
              "       [0.        , 0.38461538, 0.54077253, 0.76530612],\n",
              "       [0.        , 0.55769231, 0.54077253, 0.15306122],\n",
              "       [0.        , 0.17307692, 0.54077253, 0.89795918],\n",
              "       [1.        , 0.36538462, 0.54077253, 0.        ],\n",
              "       [0.        , 0.23076923, 0.54077253, 0.78571429],\n",
              "       [1.        , 0.30769231, 0.54077253, 0.        ],\n",
              "       [0.        , 0.23076923, 0.54077253, 0.73469388],\n",
              "       [0.        , 0.73076923, 0.54935622, 0.34693878],\n",
              "       [0.        , 0.21153846, 0.54935622, 0.83673469],\n",
              "       [1.        , 0.01923077, 0.56652361, 0.04081633],\n",
              "       [0.        , 0.25      , 0.56652361, 0.93877551],\n",
              "       [1.        , 0.61538462, 0.60085837, 0.25510204],\n",
              "       [0.        , 0.34615385, 0.60085837, 0.75510204],\n",
              "       [1.        , 0.46153846, 0.60944206, 0.19387755],\n",
              "       [0.        , 0.28846154, 0.60944206, 0.95918367],\n",
              "       [0.        , 0.34615385, 0.61802575, 0.26530612],\n",
              "       [1.        , 0.26923077, 0.61802575, 0.63265306],\n",
              "       [1.        , 0.42307692, 0.61802575, 0.12244898],\n",
              "       [1.        , 0.19230769, 0.61802575, 0.75510204],\n",
              "       [1.        , 0.34615385, 0.61802575, 0.09183673],\n",
              "       [1.        , 0.34615385, 0.61802575, 0.92857143],\n",
              "       [0.        , 0.65384615, 0.62660944, 0.12244898],\n",
              "       [0.        , 0.23076923, 0.62660944, 0.86734694],\n",
              "       [1.        , 0.76923077, 0.62660944, 0.14285714],\n",
              "       [1.        , 0.17307692, 0.62660944, 0.69387755],\n",
              "       [1.        , 0.78846154, 0.6695279 , 0.13265306],\n",
              "       [1.        , 0.32692308, 0.6695279 , 0.90816327],\n",
              "       [0.        , 0.36538462, 0.70386266, 0.31632653],\n",
              "       [0.        , 0.26923077, 0.70386266, 0.86734694],\n",
              "       [1.        , 0.53846154, 0.71244635, 0.14285714],\n",
              "       [0.        , 0.21153846, 0.71244635, 0.8877551 ],\n",
              "       [0.        , 0.44230769, 0.72103004, 0.3877551 ],\n",
              "       [1.        , 0.23076923, 0.72103004, 0.97959184],\n",
              "       [0.        , 0.69230769, 0.73819742, 0.23469388],\n",
              "       [1.        , 0.19230769, 0.73819742, 0.68367347],\n",
              "       [0.        , 0.44230769, 0.75536481, 0.16326531],\n",
              "       [0.        , 0.34615385, 0.75536481, 0.85714286],\n",
              "       [0.        , 0.30769231, 0.75536481, 0.2244898 ],\n",
              "       [0.        , 0.26923077, 0.75536481, 0.69387755],\n",
              "       [1.        , 0.28846154, 0.84120172, 0.07142857],\n",
              "       [0.        , 0.38461538, 0.84120172, 0.91836735],\n",
              "       [0.        , 0.55769231, 0.90128755, 0.15306122],\n",
              "       [0.        , 0.32692308, 0.90128755, 0.79591837],\n",
              "       [0.        , 0.51923077, 1.        , 0.2755102 ],\n",
              "       [1.        , 0.26923077, 1.        , 0.74489796],\n",
              "       [1.        , 0.26923077, 1.        , 0.17346939],\n",
              "       [1.        , 0.23076923, 1.        , 0.83673469]])"
            ]
          },
          "execution_count": 23,
          "metadata": {},
          "output_type": "execute_result"
        }
      ],
      "source": [
        "from sklearn.preprocessing import MinMaxScaler\n",
        "scaler=MinMaxScaler()\n",
        "scaler.fit_transform(df)"
      ]
    },
    {
      "cell_type": "markdown",
      "id": "4c9f8c49",
      "metadata": {
        "id": "4c9f8c49"
      },
      "source": [
        "# Performing the K Means Clustering"
      ]
    },
    {
      "cell_type": "code",
      "execution_count": null,
      "id": "fb6a1116",
      "metadata": {
        "id": "fb6a1116"
      },
      "outputs": [],
      "source": [
        "from sklearn import cluster"
      ]
    },
    {
      "cell_type": "code",
      "execution_count": null,
      "id": "c06cd20c",
      "metadata": {
        "id": "c06cd20c"
      },
      "outputs": [],
      "source": [
        "error =[]\n",
        "for i in range(1,11):\n",
        "    kmeans=cluster.KMeans(n_clusters=i,init='k-means++',random_state=0)\n",
        "    kmeans.fit(df)\n",
        "    error.append(kmeans.inertia_)"
      ]
    },
    {
      "cell_type": "code",
      "execution_count": null,
      "id": "30977d79",
      "metadata": {
        "id": "30977d79",
        "outputId": "4e256edd-e6fb-4ece-85a4-4a0d8c9e6020"
      },
      "outputs": [
        {
          "data": {
            "text/plain": [
              "[308741.0600000001,\n",
              " 212768.4424552429,\n",
              " 143270.59236035674,\n",
              " 104293.67534220174,\n",
              " 75278.61541401486,\n",
              " 58227.64136331505,\n",
              " 51011.703212576875,\n",
              " 44271.11566567935,\n",
              " 40559.52881190242,\n",
              " 37528.69225429745]"
            ]
          },
          "execution_count": 26,
          "metadata": {},
          "output_type": "execute_result"
        }
      ],
      "source": [
        "error"
      ]
    },
    {
      "cell_type": "code",
      "execution_count": null,
      "id": "0295aaa8",
      "metadata": {
        "id": "0295aaa8",
        "outputId": "6d7ac77c-ec5d-4097-fa19-f00add07ba41"
      },
      "outputs": [
        {
          "data": {
            "image/png": "[encoded data removed]",
            "text/plain": [
              "<Figure size 432x288 with 1 Axes>"
            ]
          },
          "metadata": {
            "needs_background": "light"
          },
          "output_type": "display_data"
        }
      ],
      "source": [
        "import matplotlib.pyplot as plt\n",
        "plt.plot(range(1,11),error)\n",
        "plt.title('Elbow method')\n",
        "plt.xlabel('no of clus')\n",
        "plt.ylabel('error')\n",
        "plt.show()"
      ]
    },
    {
      "cell_type": "code",
      "execution_count": null,
      "id": "5c63b163",
      "metadata": {
        "id": "5c63b163"
      },
      "outputs": [],
      "source": [
        "km_model=cluster.KMeans(n_clusters=3,init='k-means++',random_state=0)"
      ]
    },
    {
      "cell_type": "code",
      "execution_count": null,
      "id": "1ca92f35",
      "metadata": {
        "id": "1ca92f35",
        "outputId": "7d78a401-9883-498d-8166-0725032426f2"
      },
      "outputs": [
        {
          "data": {
            "text/plain": [
              "KMeans(n_clusters=3, random_state=0)"
            ]
          },
          "execution_count": 29,
          "metadata": {},
          "output_type": "execute_result"
        }
      ],
      "source": [
        "km_model.fit(df)"
      ]
    },
    {
      "cell_type": "code",
      "execution_count": null,
      "id": "5e70c556",
      "metadata": {
        "id": "5e70c556",
        "outputId": "a04b6fb9-1ef2-4b6a-927c-d113d78049f0"
      },
      "outputs": [
        {
          "data": {
            "text/plain": [
              "array([2, 2, 2, 2, 2, 2, 2, 2, 2, 2, 2, 2, 2, 2, 2, 2, 2, 2, 2, 2, 2, 2,\n",
              "       2, 2, 2, 2, 2, 2, 2, 2, 2, 2, 2, 2, 2, 2, 2, 2, 2, 2, 2, 2, 2, 2,\n",
              "       2, 2, 2, 2, 2, 2, 2, 2, 2, 2, 2, 2, 2, 2, 2, 2, 2, 2, 2, 2, 2, 2,\n",
              "       2, 2, 2, 2, 2, 2, 2, 2, 2, 2, 2, 2, 2, 2, 2, 2, 2, 2, 2, 2, 2, 2,\n",
              "       2, 2, 2, 2, 2, 2, 2, 2, 2, 2, 2, 2, 2, 2, 2, 2, 2, 2, 2, 2, 2, 2,\n",
              "       2, 2, 2, 2, 2, 2, 2, 2, 2, 2, 2, 2, 2, 1, 0, 1, 0, 1, 0, 1, 0, 1,\n",
              "       0, 1, 0, 1, 0, 1, 0, 1, 0, 1, 0, 1, 0, 1, 0, 1, 0, 1, 0, 1, 0, 1,\n",
              "       0, 1, 0, 1, 0, 1, 0, 1, 0, 1, 0, 1, 0, 1, 0, 1, 0, 1, 0, 1, 0, 1,\n",
              "       0, 1, 0, 1, 0, 1, 0, 1, 0, 1, 0, 1, 0, 1, 0, 1, 0, 1, 0, 1, 0, 1,\n",
              "       0, 1])"
            ]
          },
          "execution_count": 30,
          "metadata": {},
          "output_type": "execute_result"
        }
      ],
      "source": [
        "pred=km_model.predict(df)\n",
        "pred"
      ]
    },
    {
      "cell_type": "markdown",
      "id": "cd230722",
      "metadata": {
        "id": "cd230722"
      },
      "source": [
        "# Adding the Cluster Data with the Primary Dataset"
      ]
    },
    {
      "cell_type": "code",
      "execution_count": null,
      "id": "90022075",
      "metadata": {
        "id": "90022075",
        "outputId": "a8f11557-eeac-4af7-8dbe-1be784213e01"
      },
      "outputs": [
        {
          "data": {
            "text/html": [
              "<div>\n",
              "<style scoped>\n",
              "    .dataframe tbody tr th:only-of-type {\n",
              "        vertical-align: middle;\n",
              "    }\n",
              "\n",
              "    .dataframe tbody tr th {\n",
              "        vertical-align: top;\n",
              "    }\n",
              "\n",
              "    .dataframe thead th {\n",
              "        text-align: right;\n",
              "    }\n",
              "</style>\n",
              "<table border=\"1\" class=\"dataframe\">\n",
              "  <thead>\n",
              "    <tr style=\"text-align: right;\">\n",
              "      <th></th>\n",
              "      <th>Gender</th>\n",
              "      <th>Age</th>\n",
              "      <th>Annual Income (k$)</th>\n",
              "      <th>Spending Score (1-100)</th>\n",
              "      <th>Prediction</th>\n",
              "    </tr>\n",
              "  </thead>\n",
              "  <tbody>\n",
              "    <tr>\n",
              "      <th>0</th>\n",
              "      <td>1</td>\n",
              "      <td>19</td>\n",
              "      <td>15.0</td>\n",
              "      <td>39</td>\n",
              "      <td>2</td>\n",
              "    </tr>\n",
              "    <tr>\n",
              "      <th>1</th>\n",
              "      <td>1</td>\n",
              "      <td>21</td>\n",
              "      <td>15.0</td>\n",
              "      <td>81</td>\n",
              "      <td>2</td>\n",
              "    </tr>\n",
              "    <tr>\n",
              "      <th>2</th>\n",
              "      <td>0</td>\n",
              "      <td>20</td>\n",
              "      <td>16.0</td>\n",
              "      <td>6</td>\n",
              "      <td>2</td>\n",
              "    </tr>\n",
              "    <tr>\n",
              "      <th>3</th>\n",
              "      <td>0</td>\n",
              "      <td>23</td>\n",
              "      <td>16.0</td>\n",
              "      <td>77</td>\n",
              "      <td>2</td>\n",
              "    </tr>\n",
              "    <tr>\n",
              "      <th>4</th>\n",
              "      <td>0</td>\n",
              "      <td>31</td>\n",
              "      <td>17.0</td>\n",
              "      <td>40</td>\n",
              "      <td>2</td>\n",
              "    </tr>\n",
              "  </tbody>\n",
              "</table>\n",
              "</div>"
            ],
            "text/plain": [
              "   Gender  Age  Annual Income (k$)  Spending Score (1-100)  Prediction\n",
              "0       1   19                15.0                      39           2\n",
              "1       1   21                15.0                      81           2\n",
              "2       0   20                16.0                       6           2\n",
              "3       0   23                16.0                      77           2\n",
              "4       0   31                17.0                      40           2"
            ]
          },
          "execution_count": 31,
          "metadata": {},
          "output_type": "execute_result"
        }
      ],
      "source": [
        "df['Prediction']=pd.Series(pred)\n",
        "df.head()"
      ]
    },
    {
      "cell_type": "markdown",
      "id": "13b17efe",
      "metadata": {
        "id": "13b17efe"
      },
      "source": [
        "# Splitting The Data into Dependent and Independent Columns."
      ]
    },
    {
      "cell_type": "code",
      "execution_count": null,
      "id": "13e745fe",
      "metadata": {
        "id": "13e745fe",
        "outputId": "a72961d4-4d16-436c-caf5-62de78743e4d"
      },
      "outputs": [
        {
          "data": {
            "text/html": [
              "<div>\n",
              "<style scoped>\n",
              "    .dataframe tbody tr th:only-of-type {\n",
              "        vertical-align: middle;\n",
              "    }\n",
              "\n",
              "    .dataframe tbody tr th {\n",
              "        vertical-align: top;\n",
              "    }\n",
              "\n",
              "    .dataframe thead th {\n",
              "        text-align: right;\n",
              "    }\n",
              "</style>\n",
              "<table border=\"1\" class=\"dataframe\">\n",
              "  <thead>\n",
              "    <tr style=\"text-align: right;\">\n",
              "      <th></th>\n",
              "      <th>Gender</th>\n",
              "      <th>Age</th>\n",
              "      <th>Annual Income (k$)</th>\n",
              "      <th>Spending Score (1-100)</th>\n",
              "    </tr>\n",
              "  </thead>\n",
              "  <tbody>\n",
              "    <tr>\n",
              "      <th>0</th>\n",
              "      <td>1</td>\n",
              "      <td>19</td>\n",
              "      <td>15.0</td>\n",
              "      <td>39</td>\n",
              "    </tr>\n",
              "    <tr>\n",
              "      <th>1</th>\n",
              "      <td>1</td>\n",
              "      <td>21</td>\n",
              "      <td>15.0</td>\n",
              "      <td>81</td>\n",
              "    </tr>\n",
              "    <tr>\n",
              "      <th>2</th>\n",
              "      <td>0</td>\n",
              "      <td>20</td>\n",
              "      <td>16.0</td>\n",
              "      <td>6</td>\n",
              "    </tr>\n",
              "    <tr>\n",
              "      <th>3</th>\n",
              "      <td>0</td>\n",
              "      <td>23</td>\n",
              "      <td>16.0</td>\n",
              "      <td>77</td>\n",
              "    </tr>\n",
              "    <tr>\n",
              "      <th>4</th>\n",
              "      <td>0</td>\n",
              "      <td>31</td>\n",
              "      <td>17.0</td>\n",
              "      <td>40</td>\n",
              "    </tr>\n",
              "  </tbody>\n",
              "</table>\n",
              "</div>"
            ],
            "text/plain": [
              "   Gender  Age  Annual Income (k$)  Spending Score (1-100)\n",
              "0       1   19                15.0                      39\n",
              "1       1   21                15.0                      81\n",
              "2       0   20                16.0                       6\n",
              "3       0   23                16.0                      77\n",
              "4       0   31                17.0                      40"
            ]
          },
          "execution_count": 32,
          "metadata": {},
          "output_type": "execute_result"
        }
      ],
      "source": [
        "X=df.drop(columns=['Prediction'])\n",
        "X.head()"
      ]
    },
    {
      "cell_type": "code",
      "execution_count": null,
      "id": "968ce67a",
      "metadata": {
        "id": "968ce67a",
        "outputId": "8b63cabc-2b26-4032-89e0-aba555e98b3c"
      },
      "outputs": [
        {
          "data": {
            "text/plain": [
              "0    2\n",
              "1    2\n",
              "2    2\n",
              "3    2\n",
              "4    2\n",
              "Name: Prediction, dtype: int32"
            ]
          },
          "execution_count": 33,
          "metadata": {},
          "output_type": "execute_result"
        }
      ],
      "source": [
        "Y=df.Prediction\n",
        "Y.head()"
      ]
    },
    {
      "cell_type": "markdown",
      "id": "3195e420",
      "metadata": {
        "id": "3195e420"
      },
      "source": [
        "# Splitting the Data into Training and Testing"
      ]
    },
    {
      "cell_type": "code",
      "execution_count": null,
      "id": "7037f60b",
      "metadata": {
        "id": "7037f60b"
      },
      "outputs": [],
      "source": [
        "from sklearn.model_selection import train_test_split"
      ]
    },
    {
      "cell_type": "code",
      "execution_count": null,
      "id": "ff11f522",
      "metadata": {
        "id": "ff11f522"
      },
      "outputs": [],
      "source": [
        "x_train,x_test,y_train,y_test=train_test_split(X,Y,test_size=0.3,random_state=1)"
      ]
    },
    {
      "cell_type": "code",
      "execution_count": null,
      "id": "906395ad",
      "metadata": {
        "id": "906395ad",
        "outputId": "ccf40908-3665-4c24-bea2-ddaf1ddd04bb"
      },
      "outputs": [
        {
          "data": {
            "text/plain": [
              "(140, 4)"
            ]
          },
          "execution_count": 36,
          "metadata": {},
          "output_type": "execute_result"
        }
      ],
      "source": [
        "x_train.shape"
      ]
    },
    {
      "cell_type": "code",
      "execution_count": null,
      "id": "fa8efa38",
      "metadata": {
        "id": "fa8efa38",
        "outputId": "5b0ff1a9-04d5-4ec0-fe14-d5faa9ec42b8"
      },
      "outputs": [
        {
          "data": {
            "text/plain": [
              "(140,)"
            ]
          },
          "execution_count": 37,
          "metadata": {},
          "output_type": "execute_result"
        }
      ],
      "source": [
        "y_train.shape"
      ]
    },
    {
      "cell_type": "code",
      "execution_count": null,
      "id": "37513f91",
      "metadata": {
        "id": "37513f91",
        "outputId": "68f70850-af30-4fe2-8761-cb6ae7921fba"
      },
      "outputs": [
        {
          "data": {
            "text/plain": [
              "(60, 4)"
            ]
          },
          "execution_count": 38,
          "metadata": {},
          "output_type": "execute_result"
        }
      ],
      "source": [
        "x_test.shape"
      ]
    },
    {
      "cell_type": "code",
      "execution_count": null,
      "id": "a5788367",
      "metadata": {
        "id": "a5788367",
        "outputId": "6fb1d056-4747-40b4-8b70-bb822cef9b53"
      },
      "outputs": [
        {
          "data": {
            "text/plain": [
              "(60,)"
            ]
          },
          "execution_count": 39,
          "metadata": {},
          "output_type": "execute_result"
        }
      ],
      "source": [
        "y_test.shape"
      ]
    },
    {
      "cell_type": "markdown",
      "id": "0a50c48f",
      "metadata": {
        "id": "0a50c48f"
      },
      "source": [
        "# Various Classification Algorithms Employed"
      ]
    },
    {
      "cell_type": "markdown",
      "id": "deb5d5dc",
      "metadata": {
        "id": "deb5d5dc"
      },
      "source": [
        "# 1. Logistic Regression "
      ]
    },
    {
      "cell_type": "markdown",
      "id": "8d73d823",
      "metadata": {
        "id": "8d73d823"
      },
      "source": [
        "# Building The Model"
      ]
    },
    {
      "cell_type": "code",
      "execution_count": null,
      "id": "072c15b7",
      "metadata": {
        "id": "072c15b7"
      },
      "outputs": [],
      "source": [
        "from sklearn.linear_model import LogisticRegression\n",
        "model=LogisticRegression()"
      ]
    },
    {
      "cell_type": "markdown",
      "id": "39e156ec",
      "metadata": {
        "id": "39e156ec"
      },
      "source": [
        "# Training and Testing The Model"
      ]
    },
    {
      "cell_type": "code",
      "execution_count": null,
      "id": "ea7f0926",
      "metadata": {
        "id": "ea7f0926",
        "outputId": "799d338a-e26c-44b5-bc5b-7bfb9134c9a4"
      },
      "outputs": [
        {
          "name": "stderr",
          "output_type": "stream",
          "text": [
            "c:\\users\\hp\\appdata\\local\\programs\\python\\python36-32\\lib\\site-packages\\sklearn\\linear_model\\_logistic.py:765: ConvergenceWarning: lbfgs failed to converge (status=1):\n",
            "STOP: TOTAL NO. of ITERATIONS REACHED LIMIT.\n",
            "\n",
            "Increase the number of iterations (max_iter) or scale the data as shown in:\n",
            "    https://scikit-learn.org/stable/modules/preprocessing.html\n",
            "Please also refer to the documentation for alternative solver options:\n",
            "    https://scikit-learn.org/stable/modules/linear_model.html#logistic-regression\n",
            "  extra_warning_msg=_LOGISTIC_SOLVER_CONVERGENCE_MSG)\n"
          ]
        },
        {
          "data": {
            "text/plain": [
              "LogisticRegression()"
            ]
          },
          "execution_count": 41,
          "metadata": {},
          "output_type": "execute_result"
        }
      ],
      "source": [
        "model.fit(x_train,y_train)"
      ]
    },
    {
      "cell_type": "code",
      "execution_count": null,
      "id": "f082a1ff",
      "metadata": {
        "id": "f082a1ff",
        "outputId": "e61b8b71-a027-4fef-ba61-7b05865526ed"
      },
      "outputs": [
        {
          "data": {
            "text/plain": [
              "array([2, 2, 2, 2, 2, 2, 2, 2, 2, 2, 2, 2, 2, 2, 2, 2, 2, 2, 2, 2, 2, 2,\n",
              "       2, 2, 2, 2, 2, 2, 2, 2, 2, 2, 2, 2, 2, 2, 2, 2, 2, 2, 2, 2, 2, 2,\n",
              "       2, 2, 2, 2, 2, 2, 2, 2, 2, 2, 2, 2, 2, 2, 2, 2, 2, 2, 2, 2, 2, 2,\n",
              "       2, 2, 2, 2, 2, 2, 2, 2, 2, 2, 2, 2, 2, 2, 2, 2, 2, 2, 2, 2, 2, 2,\n",
              "       2, 2, 2, 2, 2, 2, 2, 2, 2, 2, 2, 2, 2, 2, 2, 2, 2, 2, 2, 2, 2, 2,\n",
              "       2, 2, 2, 2, 2, 2, 2, 2, 2, 2, 2, 2, 2, 1, 0, 1, 0, 1, 0, 1, 0, 1,\n",
              "       0, 1, 0, 1, 0, 1, 0, 1, 0, 1, 0, 1, 0, 1, 0, 1, 0, 1, 0, 1, 0, 1,\n",
              "       0, 1, 0, 1, 0, 1, 0, 1, 0, 1, 0, 1, 0, 1, 0, 1, 0, 1, 0, 1, 0, 1,\n",
              "       0, 1, 0, 1, 0, 1, 0, 1, 0, 1, 0, 1, 0, 1, 0, 1, 0, 1, 0, 1, 0, 1,\n",
              "       0, 1])"
            ]
          },
          "execution_count": 42,
          "metadata": {},
          "output_type": "execute_result"
        }
      ],
      "source": [
        "pred1=model.predict(x_test)\n",
        "pred"
      ]
    },
    {
      "cell_type": "code",
      "execution_count": null,
      "id": "ddf5ea68",
      "metadata": {
        "id": "ddf5ea68",
        "outputId": "c0de0b22-0ace-4f39-ac74-6463fb444493"
      },
      "outputs": [
        {
          "data": {
            "text/plain": [
              "58     2\n",
              "40     2\n",
              "34     2\n",
              "102    2\n",
              "184    0\n",
              "198    0\n",
              "95     2\n",
              "4      2\n",
              "29     2\n",
              "168    0\n",
              "171    1\n",
              "18     2\n",
              "11     2\n",
              "89     2\n",
              "110    2\n",
              "118    2\n",
              "159    1\n",
              "35     2\n",
              "136    0\n",
              "59     2\n",
              "51     2\n",
              "16     2\n",
              "44     2\n",
              "94     2\n",
              "31     2\n",
              "162    0\n",
              "38     2\n",
              "28     2\n",
              "193    1\n",
              "27     2\n",
              "47     2\n",
              "165    1\n",
              "194    0\n",
              "177    1\n",
              "176    0\n",
              "97     2\n",
              "174    0\n",
              "73     2\n",
              "69     2\n",
              "172    0\n",
              "108    2\n",
              "107    2\n",
              "189    1\n",
              "14     2\n",
              "56     2\n",
              "19     2\n",
              "114    2\n",
              "39     2\n",
              "185    1\n",
              "124    0\n",
              "98     2\n",
              "123    1\n",
              "119    2\n",
              "53     2\n",
              "33     2\n",
              "179    1\n",
              "181    1\n",
              "106    2\n",
              "199    1\n",
              "138    0\n",
              "Name: Prediction, dtype: int32"
            ]
          },
          "execution_count": 43,
          "metadata": {},
          "output_type": "execute_result"
        }
      ],
      "source": [
        "y_test"
      ]
    },
    {
      "cell_type": "code",
      "execution_count": null,
      "id": "73b0e1ab",
      "metadata": {
        "id": "73b0e1ab",
        "outputId": "164dc80b-2428-4429-a301-cd86fa121734"
      },
      "outputs": [
        {
          "data": {
            "text/plain": [
              "array([2, 2, 2, 2, 2, 2, 1, 2, 2, 2, 2, 2, 1, 0, 0, 2, 2, 2, 2, 2, 0, 2,\n",
              "       2, 2, 1, 2, 2, 0, 1, 2, 2, 2, 1, 0, 1, 2, 1, 1, 0, 1, 2, 2, 2, 0,\n",
              "       2, 2, 2, 0, 2, 2, 2, 1, 2, 2, 2, 1, 2, 0, 2, 2, 2, 2, 1, 0, 1, 2,\n",
              "       0, 1, 0, 2, 2, 2, 0, 2, 1, 2, 0, 2, 0, 2, 1, 1, 2, 0, 2, 2, 2, 1,\n",
              "       2, 2, 2, 2, 2, 2, 2, 2, 1, 2, 1, 1, 0, 2, 2, 2, 1, 2, 2, 0, 2, 2,\n",
              "       2, 2, 2, 2, 0, 1, 2, 2, 2, 2, 0, 1, 0, 1, 0, 2, 2, 0, 2, 0, 2, 1,\n",
              "       0, 0, 2, 1, 1, 2, 0, 2])"
            ]
          },
          "execution_count": 44,
          "metadata": {},
          "output_type": "execute_result"
        }
      ],
      "source": [
        "train_pred=model.predict(x_train)\n",
        "train_pred"
      ]
    },
    {
      "cell_type": "markdown",
      "id": "9cae9275",
      "metadata": {
        "id": "9cae9275"
      },
      "source": [
        "# Evaluation of The Algorithm Performance using Evaluation Metrics"
      ]
    },
    {
      "cell_type": "code",
      "execution_count": null,
      "id": "6d1eae2d",
      "metadata": {
        "id": "6d1eae2d"
      },
      "outputs": [],
      "source": [
        "from sklearn.metrics import accuracy_score,confusion_matrix,classification_report"
      ]
    },
    {
      "cell_type": "code",
      "execution_count": null,
      "id": "bcc3366b",
      "metadata": {
        "id": "bcc3366b",
        "outputId": "1c313bea-81a0-4b27-f517-6399836af9a7"
      },
      "outputs": [
        {
          "data": {
            "text/plain": [
              "1.0"
            ]
          },
          "execution_count": 46,
          "metadata": {},
          "output_type": "execute_result"
        }
      ],
      "source": [
        "accuracy_score(y_test,pred1)"
      ]
    },
    {
      "cell_type": "code",
      "execution_count": null,
      "id": "01e27cc3",
      "metadata": {
        "id": "01e27cc3",
        "outputId": "bfc65fb4-010a-4eee-eb67-ed32fc0e8232"
      },
      "outputs": [
        {
          "data": {
            "text/plain": [
              "1.0"
            ]
          },
          "execution_count": 47,
          "metadata": {},
          "output_type": "execute_result"
        }
      ],
      "source": [
        "accuracy_score(y_train,train_pred)"
      ]
    },
    {
      "cell_type": "code",
      "execution_count": null,
      "id": "dab3e47e",
      "metadata": {
        "id": "dab3e47e",
        "outputId": "602a3ae0-6b3e-42f4-8256-84d5dcbb9dbc"
      },
      "outputs": [
        {
          "data": {
            "text/plain": [
              "array([[11,  0,  0],\n",
              "       [ 0, 11,  0],\n",
              "       [ 0,  0, 38]], dtype=int64)"
            ]
          },
          "execution_count": 48,
          "metadata": {},
          "output_type": "execute_result"
        }
      ],
      "source": [
        "confusion_matrix(y_test,pred1)"
      ]
    },
    {
      "cell_type": "code",
      "execution_count": null,
      "id": "e3ae65d1",
      "metadata": {
        "id": "e3ae65d1",
        "outputId": "e951392b-dcd8-473d-fc4b-801b3ec8f42d"
      },
      "outputs": [
        {
          "data": {
            "text/html": [
              "<div>\n",
              "<style scoped>\n",
              "    .dataframe tbody tr th:only-of-type {\n",
              "        vertical-align: middle;\n",
              "    }\n",
              "\n",
              "    .dataframe tbody tr th {\n",
              "        vertical-align: top;\n",
              "    }\n",
              "\n",
              "    .dataframe thead th {\n",
              "        text-align: right;\n",
              "    }\n",
              "</style>\n",
              "<table border=\"1\" class=\"dataframe\">\n",
              "  <thead>\n",
              "    <tr style=\"text-align: right;\">\n",
              "      <th>col_0</th>\n",
              "      <th>0</th>\n",
              "      <th>1</th>\n",
              "      <th>2</th>\n",
              "    </tr>\n",
              "    <tr>\n",
              "      <th>Prediction</th>\n",
              "      <th></th>\n",
              "      <th></th>\n",
              "      <th></th>\n",
              "    </tr>\n",
              "  </thead>\n",
              "  <tbody>\n",
              "    <tr>\n",
              "      <th>0</th>\n",
              "      <td>11</td>\n",
              "      <td>0</td>\n",
              "      <td>0</td>\n",
              "    </tr>\n",
              "    <tr>\n",
              "      <th>1</th>\n",
              "      <td>0</td>\n",
              "      <td>11</td>\n",
              "      <td>0</td>\n",
              "    </tr>\n",
              "    <tr>\n",
              "      <th>2</th>\n",
              "      <td>0</td>\n",
              "      <td>0</td>\n",
              "      <td>38</td>\n",
              "    </tr>\n",
              "  </tbody>\n",
              "</table>\n",
              "</div>"
            ],
            "text/plain": [
              "col_0        0   1   2\n",
              "Prediction            \n",
              "0           11   0   0\n",
              "1            0  11   0\n",
              "2            0   0  38"
            ]
          },
          "execution_count": 49,
          "metadata": {},
          "output_type": "execute_result"
        }
      ],
      "source": [
        "pd.crosstab(y_test,pred1)"
      ]
    },
    {
      "cell_type": "markdown",
      "id": "33059ea9",
      "metadata": {
        "id": "33059ea9"
      },
      "source": [
        "# Classification Report"
      ]
    },
    {
      "cell_type": "code",
      "execution_count": null,
      "id": "04c63278",
      "metadata": {
        "id": "04c63278",
        "outputId": "ff64317d-4b46-49e6-b7b0-84bc937cc3db"
      },
      "outputs": [
        {
          "name": "stdout",
          "output_type": "stream",
          "text": [
            "              precision    recall  f1-score   support\n",
            "\n",
            "           0       1.00      1.00      1.00        11\n",
            "           1       1.00      1.00      1.00        11\n",
            "           2       1.00      1.00      1.00        38\n",
            "\n",
            "    accuracy                           1.00        60\n",
            "   macro avg       1.00      1.00      1.00        60\n",
            "weighted avg       1.00      1.00      1.00        60\n",
            "\n"
          ]
        }
      ],
      "source": [
        "print(classification_report(y_test,pred1))"
      ]
    },
    {
      "cell_type": "markdown",
      "id": "218577f5",
      "metadata": {
        "id": "218577f5"
      },
      "source": [
        "The Logistic Regression Algorithm has a 100 accuracy in both Training and Testing in predicting the Target Customers."
      ]
    },
    {
      "cell_type": "markdown",
      "id": "734e8f90",
      "metadata": {
        "id": "734e8f90"
      },
      "source": [
        "# 2. Support Vector Machine algorithm"
      ]
    },
    {
      "cell_type": "markdown",
      "id": "2ed08a15",
      "metadata": {
        "id": "2ed08a15"
      },
      "source": [
        "# Building The Model"
      ]
    },
    {
      "cell_type": "code",
      "execution_count": null,
      "id": "4e42d3d4",
      "metadata": {
        "id": "4e42d3d4"
      },
      "outputs": [],
      "source": [
        "from sklearn.svm import SVC"
      ]
    },
    {
      "cell_type": "code",
      "execution_count": null,
      "id": "c149cc72",
      "metadata": {
        "id": "c149cc72"
      },
      "outputs": [],
      "source": [
        "classifier=SVC(kernel='linear',random_state=0)"
      ]
    },
    {
      "cell_type": "markdown",
      "id": "54fc1558",
      "metadata": {
        "id": "54fc1558"
      },
      "source": [
        "# Training and Testing The Model"
      ]
    },
    {
      "cell_type": "code",
      "execution_count": null,
      "id": "7f49efcd",
      "metadata": {
        "id": "7f49efcd",
        "outputId": "27150a5e-f397-4f61-c1d8-ede3e44ae706"
      },
      "outputs": [
        {
          "data": {
            "text/plain": [
              "SVC(kernel='linear', random_state=0)"
            ]
          },
          "execution_count": 53,
          "metadata": {},
          "output_type": "execute_result"
        }
      ],
      "source": [
        "classifier.fit(x_train,y_train)"
      ]
    },
    {
      "cell_type": "code",
      "execution_count": null,
      "id": "c6dfd328",
      "metadata": {
        "id": "c6dfd328",
        "outputId": "e8cf1340-cf4d-49c2-8295-4cb5316bfcf4"
      },
      "outputs": [
        {
          "data": {
            "text/plain": [
              "array([2, 2, 2, 2, 0, 0, 2, 2, 2, 0, 1, 2, 2, 2, 2, 2, 1, 2, 0, 2, 2, 2,\n",
              "       2, 2, 2, 0, 2, 2, 1, 2, 2, 1, 0, 1, 0, 2, 0, 2, 2, 0, 2, 2, 1, 2,\n",
              "       2, 2, 2, 2, 1, 0, 2, 1, 2, 2, 2, 1, 1, 2, 1, 0])"
            ]
          },
          "execution_count": 54,
          "metadata": {},
          "output_type": "execute_result"
        }
      ],
      "source": [
        "pred2=classifier.predict(x_test)\n",
        "pred2"
      ]
    },
    {
      "cell_type": "code",
      "execution_count": null,
      "id": "c3850e0b",
      "metadata": {
        "id": "c3850e0b",
        "outputId": "ba2a93b6-98bb-47ba-ce60-c8b02bcb1c98"
      },
      "outputs": [
        {
          "data": {
            "text/plain": [
              "array([2, 2, 2, 2, 2, 2, 1, 2, 2, 2, 2, 2, 1, 0, 0, 2, 2, 2, 2, 2, 0, 2,\n",
              "       2, 2, 1, 2, 2, 0, 1, 2, 2, 2, 1, 0, 1, 2, 1, 1, 0, 1, 2, 2, 2, 0,\n",
              "       2, 2, 2, 0, 2, 2, 2, 1, 2, 2, 2, 1, 2, 0, 2, 2, 2, 2, 1, 0, 1, 2,\n",
              "       0, 1, 0, 2, 2, 2, 0, 2, 1, 2, 0, 2, 0, 2, 1, 1, 2, 0, 2, 2, 2, 1,\n",
              "       2, 2, 2, 2, 2, 2, 2, 2, 1, 2, 1, 1, 0, 2, 2, 2, 1, 2, 2, 0, 2, 2,\n",
              "       2, 2, 2, 2, 0, 1, 2, 2, 2, 2, 0, 1, 0, 1, 0, 2, 2, 0, 2, 0, 2, 1,\n",
              "       0, 0, 2, 1, 1, 2, 0, 2])"
            ]
          },
          "execution_count": 55,
          "metadata": {},
          "output_type": "execute_result"
        }
      ],
      "source": [
        "train_pred1=classifier.predict(x_train)\n",
        "train_pred1"
      ]
    },
    {
      "cell_type": "markdown",
      "id": "0f501d70",
      "metadata": {
        "id": "0f501d70"
      },
      "source": [
        "# Evaluation of the Algorithm using Evaluation Metrics"
      ]
    },
    {
      "cell_type": "code",
      "execution_count": null,
      "id": "59aa9205",
      "metadata": {
        "id": "59aa9205"
      },
      "outputs": [],
      "source": [
        "from sklearn.metrics import accuracy_score,confusion_matrix,classification_report"
      ]
    },
    {
      "cell_type": "code",
      "execution_count": null,
      "id": "a8916f89",
      "metadata": {
        "id": "a8916f89",
        "outputId": "b08848a3-9053-42c0-fed6-92fa428df1d3"
      },
      "outputs": [
        {
          "data": {
            "text/plain": [
              "1.0"
            ]
          },
          "execution_count": 57,
          "metadata": {},
          "output_type": "execute_result"
        }
      ],
      "source": [
        "accuracy_score(y_test,pred2)"
      ]
    },
    {
      "cell_type": "code",
      "execution_count": null,
      "id": "026a6d0f",
      "metadata": {
        "id": "026a6d0f",
        "outputId": "cb8fdd7f-66e3-4128-ddea-055b221065a5"
      },
      "outputs": [
        {
          "data": {
            "text/plain": [
              "1.0"
            ]
          },
          "execution_count": 58,
          "metadata": {},
          "output_type": "execute_result"
        }
      ],
      "source": [
        "accuracy_score(y_train,train_pred1)"
      ]
    },
    {
      "cell_type": "code",
      "execution_count": null,
      "id": "cafc981f",
      "metadata": {
        "id": "cafc981f",
        "outputId": "f13db078-35a3-43b5-f042-9c210837e8b3"
      },
      "outputs": [
        {
          "data": {
            "text/plain": [
              "array([[11,  0,  0],\n",
              "       [ 0, 11,  0],\n",
              "       [ 0,  0, 38]], dtype=int64)"
            ]
          },
          "execution_count": 59,
          "metadata": {},
          "output_type": "execute_result"
        }
      ],
      "source": [
        "confusion_matrix(y_test,pred2)"
      ]
    },
    {
      "cell_type": "code",
      "execution_count": null,
      "id": "29def85c",
      "metadata": {
        "id": "29def85c",
        "outputId": "2d78531d-fd8b-491f-f642-db3de2550eed"
      },
      "outputs": [
        {
          "data": {
            "text/html": [
              "<div>\n",
              "<style scoped>\n",
              "    .dataframe tbody tr th:only-of-type {\n",
              "        vertical-align: middle;\n",
              "    }\n",
              "\n",
              "    .dataframe tbody tr th {\n",
              "        vertical-align: top;\n",
              "    }\n",
              "\n",
              "    .dataframe thead th {\n",
              "        text-align: right;\n",
              "    }\n",
              "</style>\n",
              "<table border=\"1\" class=\"dataframe\">\n",
              "  <thead>\n",
              "    <tr style=\"text-align: right;\">\n",
              "      <th>col_0</th>\n",
              "      <th>0</th>\n",
              "      <th>1</th>\n",
              "      <th>2</th>\n",
              "    </tr>\n",
              "    <tr>\n",
              "      <th>Prediction</th>\n",
              "      <th></th>\n",
              "      <th></th>\n",
              "      <th></th>\n",
              "    </tr>\n",
              "  </thead>\n",
              "  <tbody>\n",
              "    <tr>\n",
              "      <th>0</th>\n",
              "      <td>11</td>\n",
              "      <td>0</td>\n",
              "      <td>0</td>\n",
              "    </tr>\n",
              "    <tr>\n",
              "      <th>1</th>\n",
              "      <td>0</td>\n",
              "      <td>11</td>\n",
              "      <td>0</td>\n",
              "    </tr>\n",
              "    <tr>\n",
              "      <th>2</th>\n",
              "      <td>0</td>\n",
              "      <td>0</td>\n",
              "      <td>38</td>\n",
              "    </tr>\n",
              "  </tbody>\n",
              "</table>\n",
              "</div>"
            ],
            "text/plain": [
              "col_0        0   1   2\n",
              "Prediction            \n",
              "0           11   0   0\n",
              "1            0  11   0\n",
              "2            0   0  38"
            ]
          },
          "execution_count": 60,
          "metadata": {},
          "output_type": "execute_result"
        }
      ],
      "source": [
        "pd.crosstab(y_test,pred2)"
      ]
    },
    {
      "cell_type": "markdown",
      "id": "2bc71c7e",
      "metadata": {
        "id": "2bc71c7e"
      },
      "source": [
        "# Classification Report"
      ]
    },
    {
      "cell_type": "code",
      "execution_count": null,
      "id": "e1387aa9",
      "metadata": {
        "id": "e1387aa9",
        "outputId": "5881dd81-6234-482a-d8a5-461bc8b378ef"
      },
      "outputs": [
        {
          "name": "stdout",
          "output_type": "stream",
          "text": [
            "              precision    recall  f1-score   support\n",
            "\n",
            "           0       1.00      1.00      1.00        11\n",
            "           1       1.00      1.00      1.00        11\n",
            "           2       1.00      1.00      1.00        38\n",
            "\n",
            "    accuracy                           1.00        60\n",
            "   macro avg       1.00      1.00      1.00        60\n",
            "weighted avg       1.00      1.00      1.00        60\n",
            "\n"
          ]
        }
      ],
      "source": [
        "print(classification_report(y_test,pred2))"
      ]
    },
    {
      "cell_type": "markdown",
      "id": "f9a027a9",
      "metadata": {
        "id": "f9a027a9"
      },
      "source": [
        "The Support Vector Machine Algorithm also has the same 100 percent accuracy in both Training and Testing in predicting the Target customers."
      ]
    },
    {
      "cell_type": "markdown",
      "id": "539dbd51",
      "metadata": {
        "id": "539dbd51"
      },
      "source": [
        "# 3. Random Forest Classifier"
      ]
    },
    {
      "cell_type": "markdown",
      "id": "8df648df",
      "metadata": {
        "id": "8df648df"
      },
      "source": [
        "# Building The Model"
      ]
    },
    {
      "cell_type": "code",
      "execution_count": null,
      "id": "19de885f",
      "metadata": {
        "id": "19de885f"
      },
      "outputs": [],
      "source": [
        "from sklearn.ensemble import RandomForestClassifier \n",
        "rf=RandomForestClassifier(n_estimators=10,criterion=\"entropy\")"
      ]
    },
    {
      "cell_type": "markdown",
      "id": "13c941a4",
      "metadata": {
        "id": "13c941a4"
      },
      "source": [
        "# Training and Testing The Model"
      ]
    },
    {
      "cell_type": "code",
      "execution_count": null,
      "id": "4764d824",
      "metadata": {
        "id": "4764d824",
        "outputId": "24013a4b-8e8f-40ce-9aa2-f02d8eb82436"
      },
      "outputs": [
        {
          "data": {
            "text/plain": [
              "RandomForestClassifier(criterion='entropy', n_estimators=10)"
            ]
          },
          "execution_count": 63,
          "metadata": {},
          "output_type": "execute_result"
        }
      ],
      "source": [
        "rf.fit(x_train,y_train)"
      ]
    },
    {
      "cell_type": "code",
      "execution_count": null,
      "id": "68cc443c",
      "metadata": {
        "id": "68cc443c",
        "outputId": "f9f2c3fb-b455-4f0d-c230-f528431a507f"
      },
      "outputs": [
        {
          "data": {
            "text/plain": [
              "array([2, 2, 2, 2, 0, 0, 2, 2, 2, 0, 1, 2, 2, 2, 2, 2, 1, 2, 0, 2, 2, 2,\n",
              "       2, 2, 2, 0, 2, 2, 1, 2, 2, 1, 0, 1, 0, 2, 0, 2, 2, 0, 2, 2, 1, 2,\n",
              "       2, 2, 2, 2, 1, 2, 2, 1, 2, 2, 2, 1, 1, 2, 1, 0])"
            ]
          },
          "execution_count": 64,
          "metadata": {},
          "output_type": "execute_result"
        }
      ],
      "source": [
        "pred3=rf.predict(x_test)\n",
        "pred3"
      ]
    },
    {
      "cell_type": "code",
      "execution_count": null,
      "id": "fbae7217",
      "metadata": {
        "id": "fbae7217",
        "outputId": "5e77de3e-79cf-4235-e215-fb8cb2695ca4"
      },
      "outputs": [
        {
          "data": {
            "text/plain": [
              "array([2, 2, 2, 2, 2, 2, 1, 2, 2, 2, 2, 2, 1, 0, 0, 2, 2, 2, 2, 2, 0, 2,\n",
              "       2, 2, 1, 2, 2, 0, 1, 2, 2, 2, 1, 0, 1, 2, 1, 1, 0, 1, 2, 2, 2, 0,\n",
              "       2, 2, 2, 0, 2, 2, 2, 1, 2, 2, 2, 1, 2, 0, 2, 2, 2, 2, 1, 0, 1, 2,\n",
              "       0, 1, 0, 2, 2, 2, 0, 2, 1, 2, 0, 2, 0, 2, 1, 1, 2, 0, 2, 2, 2, 1,\n",
              "       2, 2, 2, 2, 2, 2, 2, 2, 1, 2, 1, 1, 0, 2, 2, 2, 1, 2, 2, 0, 2, 2,\n",
              "       2, 2, 2, 2, 0, 1, 2, 2, 2, 2, 0, 1, 0, 1, 0, 2, 2, 0, 2, 0, 2, 1,\n",
              "       0, 0, 2, 1, 1, 2, 0, 2])"
            ]
          },
          "execution_count": 65,
          "metadata": {},
          "output_type": "execute_result"
        }
      ],
      "source": [
        "train_pred2=rf.predict(x_train)\n",
        "train_pred2"
      ]
    },
    {
      "cell_type": "markdown",
      "id": "29664ab1",
      "metadata": {
        "id": "29664ab1"
      },
      "source": [
        "# Evaluation of The Algorithm using Evaluation Metrics"
      ]
    },
    {
      "cell_type": "code",
      "execution_count": null,
      "id": "b9cfdbac",
      "metadata": {
        "id": "b9cfdbac"
      },
      "outputs": [],
      "source": [
        "from sklearn.metrics import accuracy_score,confusion_matrix,classification_report"
      ]
    },
    {
      "cell_type": "code",
      "execution_count": null,
      "id": "8dae21d4",
      "metadata": {
        "id": "8dae21d4",
        "outputId": "dfe60e49-aa17-4ad1-fa3b-1635d49b2718"
      },
      "outputs": [
        {
          "data": {
            "text/plain": [
              "0.9833333333333333"
            ]
          },
          "execution_count": 67,
          "metadata": {},
          "output_type": "execute_result"
        }
      ],
      "source": [
        "accuracy_score(y_test,pred3)"
      ]
    },
    {
      "cell_type": "code",
      "execution_count": null,
      "id": "f39495b0",
      "metadata": {
        "id": "f39495b0",
        "outputId": "cf149ab6-7165-480d-9f7d-1e29cfea623b"
      },
      "outputs": [
        {
          "data": {
            "text/plain": [
              "1.0"
            ]
          },
          "execution_count": 68,
          "metadata": {},
          "output_type": "execute_result"
        }
      ],
      "source": [
        "accuracy_score(y_train,train_pred2)"
      ]
    },
    {
      "cell_type": "code",
      "execution_count": null,
      "id": "a3171f89",
      "metadata": {
        "id": "a3171f89",
        "outputId": "5b5a4ca9-7e15-4b02-8b83-7c184355b901"
      },
      "outputs": [
        {
          "data": {
            "text/plain": [
              "array([[10,  0,  1],\n",
              "       [ 0, 11,  0],\n",
              "       [ 0,  0, 38]], dtype=int64)"
            ]
          },
          "execution_count": 69,
          "metadata": {},
          "output_type": "execute_result"
        }
      ],
      "source": [
        "confusion_matrix(y_test,pred3)"
      ]
    },
    {
      "cell_type": "code",
      "execution_count": null,
      "id": "aa84e61a",
      "metadata": {
        "id": "aa84e61a",
        "outputId": "5788b618-00bb-4358-fcc4-16f64781deb6"
      },
      "outputs": [
        {
          "data": {
            "text/html": [
              "<div>\n",
              "<style scoped>\n",
              "    .dataframe tbody tr th:only-of-type {\n",
              "        vertical-align: middle;\n",
              "    }\n",
              "\n",
              "    .dataframe tbody tr th {\n",
              "        vertical-align: top;\n",
              "    }\n",
              "\n",
              "    .dataframe thead th {\n",
              "        text-align: right;\n",
              "    }\n",
              "</style>\n",
              "<table border=\"1\" class=\"dataframe\">\n",
              "  <thead>\n",
              "    <tr style=\"text-align: right;\">\n",
              "      <th>col_0</th>\n",
              "      <th>0</th>\n",
              "      <th>1</th>\n",
              "      <th>2</th>\n",
              "    </tr>\n",
              "    <tr>\n",
              "      <th>Prediction</th>\n",
              "      <th></th>\n",
              "      <th></th>\n",
              "      <th></th>\n",
              "    </tr>\n",
              "  </thead>\n",
              "  <tbody>\n",
              "    <tr>\n",
              "      <th>0</th>\n",
              "      <td>10</td>\n",
              "      <td>0</td>\n",
              "      <td>1</td>\n",
              "    </tr>\n",
              "    <tr>\n",
              "      <th>1</th>\n",
              "      <td>0</td>\n",
              "      <td>11</td>\n",
              "      <td>0</td>\n",
              "    </tr>\n",
              "    <tr>\n",
              "      <th>2</th>\n",
              "      <td>0</td>\n",
              "      <td>0</td>\n",
              "      <td>38</td>\n",
              "    </tr>\n",
              "  </tbody>\n",
              "</table>\n",
              "</div>"
            ],
            "text/plain": [
              "col_0        0   1   2\n",
              "Prediction            \n",
              "0           10   0   1\n",
              "1            0  11   0\n",
              "2            0   0  38"
            ]
          },
          "execution_count": 70,
          "metadata": {},
          "output_type": "execute_result"
        }
      ],
      "source": [
        "pd.crosstab(y_test,pred3)"
      ]
    },
    {
      "cell_type": "markdown",
      "id": "8a802fed",
      "metadata": {
        "id": "8a802fed"
      },
      "source": [
        "# Classification Report"
      ]
    },
    {
      "cell_type": "code",
      "execution_count": null,
      "id": "2e338372",
      "metadata": {
        "id": "2e338372",
        "outputId": "a8e37ebf-08f6-48fb-c1c1-7d3d03cab360"
      },
      "outputs": [
        {
          "name": "stdout",
          "output_type": "stream",
          "text": [
            "              precision    recall  f1-score   support\n",
            "\n",
            "           0       1.00      0.91      0.95        11\n",
            "           1       1.00      1.00      1.00        11\n",
            "           2       0.97      1.00      0.99        38\n",
            "\n",
            "    accuracy                           0.98        60\n",
            "   macro avg       0.99      0.97      0.98        60\n",
            "weighted avg       0.98      0.98      0.98        60\n",
            "\n"
          ]
        }
      ],
      "source": [
        "print(classification_report(y_test,pred3))"
      ]
    },
    {
      "cell_type": "markdown",
      "id": "f7a90e35",
      "metadata": {
        "id": "f7a90e35"
      },
      "source": [
        "The Random Forest Classifier Algorithm has an accuracy of 100% in the Training and has accuracy of nearly 98% in Testing in predicting the Target Customers."
      ]
    },
    {
      "cell_type": "markdown",
      "id": "15e264f7",
      "metadata": {
        "id": "15e264f7"
      },
      "source": [
        "# 4. Naive Bayes Classifier Algorithm"
      ]
    },
    {
      "cell_type": "markdown",
      "id": "8597bb16",
      "metadata": {
        "id": "8597bb16"
      },
      "source": [
        "# Building The Model"
      ]
    },
    {
      "cell_type": "code",
      "execution_count": null,
      "id": "72dda24f",
      "metadata": {
        "id": "72dda24f"
      },
      "outputs": [],
      "source": [
        "from sklearn.naive_bayes import GaussianNB\n",
        "nb=GaussianNB()"
      ]
    },
    {
      "cell_type": "markdown",
      "id": "ab1a7e74",
      "metadata": {
        "id": "ab1a7e74"
      },
      "source": [
        "# Training and Testing The Model"
      ]
    },
    {
      "cell_type": "code",
      "execution_count": null,
      "id": "b56f52fa",
      "metadata": {
        "id": "b56f52fa",
        "outputId": "8f903c4d-f214-4a3a-c469-f5fb42250fd8"
      },
      "outputs": [
        {
          "data": {
            "text/plain": [
              "GaussianNB()"
            ]
          },
          "execution_count": 73,
          "metadata": {},
          "output_type": "execute_result"
        }
      ],
      "source": [
        "nb.fit(x_train,y_train)"
      ]
    },
    {
      "cell_type": "code",
      "execution_count": null,
      "id": "f289e289",
      "metadata": {
        "id": "f289e289",
        "outputId": "4eef9145-e0f7-4fa8-ec00-3a90ca4b368b"
      },
      "outputs": [
        {
          "data": {
            "text/plain": [
              "array([2, 2, 2, 2, 0, 0, 2, 2, 2, 0, 1, 2, 2, 2, 2, 2, 1, 2, 0, 2, 2, 2,\n",
              "       2, 2, 2, 0, 2, 2, 1, 2, 2, 1, 0, 1, 0, 2, 0, 2, 2, 0, 2, 2, 1, 2,\n",
              "       2, 2, 2, 2, 1, 2, 2, 1, 2, 2, 2, 1, 1, 2, 1, 0])"
            ]
          },
          "execution_count": 74,
          "metadata": {},
          "output_type": "execute_result"
        }
      ],
      "source": [
        "pred4=nb.predict(x_test)\n",
        "pred4"
      ]
    },
    {
      "cell_type": "code",
      "execution_count": null,
      "id": "7654c578",
      "metadata": {
        "id": "7654c578",
        "outputId": "30b8c76a-b126-4ad5-8a81-ea8853bd34c9"
      },
      "outputs": [
        {
          "data": {
            "text/plain": [
              "array([2, 2, 2, 2, 2, 2, 1, 2, 2, 2, 2, 2, 1, 0, 0, 2, 2, 2, 2, 2, 0, 2,\n",
              "       2, 2, 1, 2, 2, 2, 1, 2, 2, 2, 1, 0, 1, 2, 1, 1, 0, 1, 2, 2, 2, 0,\n",
              "       2, 2, 2, 0, 2, 2, 2, 1, 2, 2, 2, 1, 2, 0, 2, 2, 2, 2, 1, 0, 1, 2,\n",
              "       0, 1, 0, 2, 2, 2, 0, 2, 1, 2, 0, 2, 0, 2, 1, 1, 2, 0, 2, 2, 2, 1,\n",
              "       2, 2, 2, 2, 2, 2, 2, 2, 1, 2, 1, 1, 0, 2, 2, 2, 1, 2, 2, 0, 2, 2,\n",
              "       2, 2, 2, 2, 0, 1, 2, 2, 2, 2, 2, 1, 0, 1, 0, 2, 2, 0, 2, 0, 2, 1,\n",
              "       0, 0, 2, 1, 1, 2, 0, 2])"
            ]
          },
          "execution_count": 75,
          "metadata": {},
          "output_type": "execute_result"
        }
      ],
      "source": [
        "train_pred3=nb.predict(x_train)\n",
        "train_pred3"
      ]
    },
    {
      "cell_type": "markdown",
      "id": "c5542dc4",
      "metadata": {
        "id": "c5542dc4"
      },
      "source": [
        "# Evaluation of Algorithm using Evaluation Metrics"
      ]
    },
    {
      "cell_type": "code",
      "execution_count": null,
      "id": "39b063b9",
      "metadata": {
        "id": "39b063b9"
      },
      "outputs": [],
      "source": [
        "from sklearn.metrics import accuracy_score,confusion_matrix,classification_report"
      ]
    },
    {
      "cell_type": "code",
      "execution_count": null,
      "id": "e0fd57d1",
      "metadata": {
        "id": "e0fd57d1",
        "outputId": "d8e593dc-b5e3-4868-de30-a14cfb7779c5"
      },
      "outputs": [
        {
          "data": {
            "text/plain": [
              "0.9833333333333333"
            ]
          },
          "execution_count": 77,
          "metadata": {},
          "output_type": "execute_result"
        }
      ],
      "source": [
        "accuracy_score(y_test,pred4)"
      ]
    },
    {
      "cell_type": "code",
      "execution_count": null,
      "id": "8c0ce419",
      "metadata": {
        "id": "8c0ce419",
        "outputId": "b5132dc3-a8e1-4218-c52e-f019d3709a75"
      },
      "outputs": [
        {
          "data": {
            "text/plain": [
              "0.9857142857142858"
            ]
          },
          "execution_count": 78,
          "metadata": {},
          "output_type": "execute_result"
        }
      ],
      "source": [
        "accuracy_score(y_train,train_pred3)"
      ]
    },
    {
      "cell_type": "code",
      "execution_count": null,
      "id": "baaa2a7b",
      "metadata": {
        "id": "baaa2a7b",
        "outputId": "076369b1-fb60-4c8f-b209-a79916d8b045"
      },
      "outputs": [
        {
          "data": {
            "text/plain": [
              "array([[10,  0,  1],\n",
              "       [ 0, 11,  0],\n",
              "       [ 0,  0, 38]], dtype=int64)"
            ]
          },
          "execution_count": 79,
          "metadata": {},
          "output_type": "execute_result"
        }
      ],
      "source": [
        "confusion_matrix(y_test,pred4)"
      ]
    },
    {
      "cell_type": "code",
      "execution_count": null,
      "id": "c971fa9c",
      "metadata": {
        "id": "c971fa9c",
        "outputId": "45f580f5-6acc-4dbc-d84d-59f9a831b7e0"
      },
      "outputs": [
        {
          "data": {
            "text/html": [
              "<div>\n",
              "<style scoped>\n",
              "    .dataframe tbody tr th:only-of-type {\n",
              "        vertical-align: middle;\n",
              "    }\n",
              "\n",
              "    .dataframe tbody tr th {\n",
              "        vertical-align: top;\n",
              "    }\n",
              "\n",
              "    .dataframe thead th {\n",
              "        text-align: right;\n",
              "    }\n",
              "</style>\n",
              "<table border=\"1\" class=\"dataframe\">\n",
              "  <thead>\n",
              "    <tr style=\"text-align: right;\">\n",
              "      <th>col_0</th>\n",
              "      <th>0</th>\n",
              "      <th>1</th>\n",
              "      <th>2</th>\n",
              "    </tr>\n",
              "    <tr>\n",
              "      <th>Prediction</th>\n",
              "      <th></th>\n",
              "      <th></th>\n",
              "      <th></th>\n",
              "    </tr>\n",
              "  </thead>\n",
              "  <tbody>\n",
              "    <tr>\n",
              "      <th>0</th>\n",
              "      <td>10</td>\n",
              "      <td>0</td>\n",
              "      <td>1</td>\n",
              "    </tr>\n",
              "    <tr>\n",
              "      <th>1</th>\n",
              "      <td>0</td>\n",
              "      <td>11</td>\n",
              "      <td>0</td>\n",
              "    </tr>\n",
              "    <tr>\n",
              "      <th>2</th>\n",
              "      <td>0</td>\n",
              "      <td>0</td>\n",
              "      <td>38</td>\n",
              "    </tr>\n",
              "  </tbody>\n",
              "</table>\n",
              "</div>"
            ],
            "text/plain": [
              "col_0        0   1   2\n",
              "Prediction            \n",
              "0           10   0   1\n",
              "1            0  11   0\n",
              "2            0   0  38"
            ]
          },
          "execution_count": 80,
          "metadata": {},
          "output_type": "execute_result"
        }
      ],
      "source": [
        "pd.crosstab(y_test,pred4)"
      ]
    },
    {
      "cell_type": "markdown",
      "id": "140b1cd2",
      "metadata": {
        "id": "140b1cd2"
      },
      "source": [
        "The Naive Bayes Algorithm has a nearly similar accuracy in both training and testing of nearly 98%."
      ]
    },
    {
      "cell_type": "markdown",
      "id": "943ecf68",
      "metadata": {
        "id": "943ecf68"
      },
      "source": [
        "# 5. K Nearest Neighbours Algorithm"
      ]
    },
    {
      "cell_type": "markdown",
      "id": "2051295e",
      "metadata": {
        "id": "2051295e"
      },
      "source": [
        "# Building The Model"
      ]
    },
    {
      "cell_type": "code",
      "execution_count": null,
      "id": "c395b1b6",
      "metadata": {
        "id": "c395b1b6"
      },
      "outputs": [],
      "source": [
        "from sklearn.neighbors import KNeighborsClassifier\n",
        "knn=KNeighborsClassifier(n_neighbors=5,metric='minkowski',p=2)"
      ]
    },
    {
      "cell_type": "markdown",
      "id": "4e649b57",
      "metadata": {
        "id": "4e649b57"
      },
      "source": [
        "# Training and Testing the Model"
      ]
    },
    {
      "cell_type": "code",
      "execution_count": null,
      "id": "e5659111",
      "metadata": {
        "id": "e5659111",
        "outputId": "43a976bd-d465-4290-98e8-8d711991f78e"
      },
      "outputs": [
        {
          "data": {
            "text/plain": [
              "KNeighborsClassifier()"
            ]
          },
          "execution_count": 82,
          "metadata": {},
          "output_type": "execute_result"
        }
      ],
      "source": [
        "knn.fit(x_train,y_train)"
      ]
    },
    {
      "cell_type": "code",
      "execution_count": null,
      "id": "e4f6449d",
      "metadata": {
        "id": "e4f6449d",
        "outputId": "aeb9f632-3eb2-4d35-e37f-994e590750c1"
      },
      "outputs": [
        {
          "data": {
            "text/plain": [
              "array([2, 2, 2, 2, 0, 0, 2, 2, 2, 0, 1, 2, 2, 2, 2, 2, 1, 2, 0, 2, 2, 2,\n",
              "       2, 2, 2, 0, 2, 2, 1, 2, 2, 1, 0, 1, 0, 2, 0, 2, 2, 0, 2, 2, 1, 2,\n",
              "       2, 2, 2, 2, 1, 0, 2, 1, 2, 2, 2, 1, 1, 2, 1, 0])"
            ]
          },
          "execution_count": 83,
          "metadata": {},
          "output_type": "execute_result"
        }
      ],
      "source": [
        "pred5=knn.predict(x_test)\n",
        "pred5"
      ]
    },
    {
      "cell_type": "code",
      "execution_count": null,
      "id": "3fe5547f",
      "metadata": {
        "id": "3fe5547f",
        "outputId": "e8da0df9-dd9e-4df9-b6dc-923294a97dd5"
      },
      "outputs": [
        {
          "data": {
            "text/plain": [
              "array([2, 2, 2, 2, 2, 2, 1, 2, 2, 2, 2, 2, 1, 0, 0, 2, 2, 2, 2, 2, 0, 2,\n",
              "       2, 2, 1, 2, 2, 2, 1, 2, 2, 2, 1, 0, 1, 2, 1, 1, 0, 1, 2, 2, 2, 0,\n",
              "       2, 2, 2, 0, 2, 2, 2, 1, 2, 2, 2, 1, 2, 0, 2, 2, 2, 2, 1, 0, 1, 2,\n",
              "       0, 1, 0, 2, 2, 2, 0, 2, 1, 2, 2, 2, 0, 2, 1, 1, 2, 0, 2, 2, 2, 1,\n",
              "       2, 2, 2, 2, 2, 2, 2, 2, 1, 2, 1, 1, 0, 2, 2, 2, 1, 2, 2, 0, 2, 2,\n",
              "       2, 2, 2, 2, 0, 1, 2, 2, 2, 2, 2, 1, 0, 1, 0, 2, 2, 0, 2, 0, 2, 1,\n",
              "       0, 0, 2, 1, 1, 2, 0, 2])"
            ]
          },
          "execution_count": 84,
          "metadata": {},
          "output_type": "execute_result"
        }
      ],
      "source": [
        "train_pred4=knn.predict(x_train)\n",
        "train_pred4"
      ]
    },
    {
      "cell_type": "markdown",
      "id": "b7ba4186",
      "metadata": {
        "id": "b7ba4186"
      },
      "source": [
        "# Evaluation of the Algorithm using Evaluation Metrics"
      ]
    },
    {
      "cell_type": "code",
      "execution_count": null,
      "id": "41c9660e",
      "metadata": {
        "id": "41c9660e"
      },
      "outputs": [],
      "source": [
        "from sklearn.metrics import accuracy_score,confusion_matrix,classification_report"
      ]
    },
    {
      "cell_type": "code",
      "execution_count": null,
      "id": "6b5ae15b",
      "metadata": {
        "id": "6b5ae15b",
        "outputId": "844a2038-a53d-4ab6-c86d-c5005640c095"
      },
      "outputs": [
        {
          "data": {
            "text/plain": [
              "1.0"
            ]
          },
          "execution_count": 86,
          "metadata": {},
          "output_type": "execute_result"
        }
      ],
      "source": [
        "accuracy_score(y_test,pred5)"
      ]
    },
    {
      "cell_type": "code",
      "execution_count": null,
      "id": "7beb550e",
      "metadata": {
        "id": "7beb550e",
        "outputId": "bd88e275-a967-4ddb-c118-b4bf18ed2a9e"
      },
      "outputs": [
        {
          "data": {
            "text/plain": [
              "0.9785714285714285"
            ]
          },
          "execution_count": 87,
          "metadata": {},
          "output_type": "execute_result"
        }
      ],
      "source": [
        "accuracy_score(y_train,train_pred4)"
      ]
    },
    {
      "cell_type": "code",
      "execution_count": null,
      "id": "704afc57",
      "metadata": {
        "id": "704afc57",
        "outputId": "5b17eedd-1221-4fc6-c942-d6a14b3f0dd7"
      },
      "outputs": [
        {
          "data": {
            "text/plain": [
              "array([[11,  0,  0],\n",
              "       [ 0, 11,  0],\n",
              "       [ 0,  0, 38]], dtype=int64)"
            ]
          },
          "execution_count": 88,
          "metadata": {},
          "output_type": "execute_result"
        }
      ],
      "source": [
        "confusion_matrix(y_test,pred5)"
      ]
    },
    {
      "cell_type": "code",
      "execution_count": null,
      "id": "198c5bbb",
      "metadata": {
        "id": "198c5bbb",
        "outputId": "bf1acdcd-0fee-4db6-afc5-c580295c1903"
      },
      "outputs": [
        {
          "data": {
            "text/html": [
              "<div>\n",
              "<style scoped>\n",
              "    .dataframe tbody tr th:only-of-type {\n",
              "        vertical-align: middle;\n",
              "    }\n",
              "\n",
              "    .dataframe tbody tr th {\n",
              "        vertical-align: top;\n",
              "    }\n",
              "\n",
              "    .dataframe thead th {\n",
              "        text-align: right;\n",
              "    }\n",
              "</style>\n",
              "<table border=\"1\" class=\"dataframe\">\n",
              "  <thead>\n",
              "    <tr style=\"text-align: right;\">\n",
              "      <th>col_0</th>\n",
              "      <th>0</th>\n",
              "      <th>1</th>\n",
              "      <th>2</th>\n",
              "    </tr>\n",
              "    <tr>\n",
              "      <th>Prediction</th>\n",
              "      <th></th>\n",
              "      <th></th>\n",
              "      <th></th>\n",
              "    </tr>\n",
              "  </thead>\n",
              "  <tbody>\n",
              "    <tr>\n",
              "      <th>0</th>\n",
              "      <td>11</td>\n",
              "      <td>0</td>\n",
              "      <td>0</td>\n",
              "    </tr>\n",
              "    <tr>\n",
              "      <th>1</th>\n",
              "      <td>0</td>\n",
              "      <td>11</td>\n",
              "      <td>0</td>\n",
              "    </tr>\n",
              "    <tr>\n",
              "      <th>2</th>\n",
              "      <td>0</td>\n",
              "      <td>0</td>\n",
              "      <td>38</td>\n",
              "    </tr>\n",
              "  </tbody>\n",
              "</table>\n",
              "</div>"
            ],
            "text/plain": [
              "col_0        0   1   2\n",
              "Prediction            \n",
              "0           11   0   0\n",
              "1            0  11   0\n",
              "2            0   0  38"
            ]
          },
          "execution_count": 89,
          "metadata": {},
          "output_type": "execute_result"
        }
      ],
      "source": [
        "pd.crosstab(y_test,pred5)"
      ]
    },
    {
      "cell_type": "markdown",
      "id": "753535be",
      "metadata": {
        "id": "753535be"
      },
      "source": [
        "The K Nearest Neighbour Classifier Algorithm has an accuracy of 100% in Testing and nearly 98% in Training in predicting the Target Customers."
      ]
    },
    {
      "cell_type": "markdown",
      "id": "1afe7090",
      "metadata": {
        "id": "1afe7090"
      },
      "source": [
        "# Hence Various Classification Algorithms are applied on Clustered Data which is added in the Primary Dataset."
      ]
    }
  ],
  "metadata": {
    "kernelspec": {
      "display_name": "Python 3",
      "language": "python",
      "name": "python3"
    },
    "language_info": {
      "codemirror_mode": {
        "name": "ipython",
        "version": 3
      },
      "file_extension": ".py",
      "mimetype": "text/x-python",
      "name": "python",
      "nbconvert_exporter": "python",
      "pygments_lexer": "ipython3",
      "version": "3.6.8"
    },
    "colab": {
      "provenance": []
    }
  },
  "nbformat": 4,
  "nbformat_minor": 5
}